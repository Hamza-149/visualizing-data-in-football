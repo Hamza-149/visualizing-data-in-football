{
 "cells": [
  {
   "cell_type": "markdown",
   "id": "e60ae778",
   "metadata": {},
   "source": [
    "# <center>_Visualizing Data in Football (1872 - present)_</center>"
   ]
  },
  {
   "cell_type": "markdown",
   "id": "e930a84e",
   "metadata": {},
   "source": [
    "<p align=\"center\">\n",
    "    <img src=\"https://images.pexels.com/photos/1884574/pexels-photo-1884574.jpeg\" alt=\"Alt Text\">\n",
    "</p>"
   ]
  },
  {
   "cell_type": "markdown",
   "id": "46367799",
   "metadata": {},
   "source": [
    "***Over the past two decades, the influence of data analytics has been growing in every aspect of our lives: in businesses of every kind, but also in healthcare, media and sports. Until a few years ago, football was thought to be immune from this trend. Now, the early adopters in the major football leagues are thriving thanks to the competitive advantage that investments in data analytics are beginning to provide them: Liverpool, AZ Alkmaar and Brentford are just a few in the fast-growing list of successful case studies. In our view, the clubs that aren’t planning to jump on the analytics bandwagon run the risk of being left behind.***\n",
    "\n",
    "***Data is applied to football in three key areas: performance analysis, recruitment and strategy. We will be scraping the bottom of the barrel in our analysis which will be carried out with help of basic python and some libraries.This is a good place to start off with before moving onto the more complicated analysis.***"
   ]
  },
  {
   "cell_type": "markdown",
   "id": "09283914",
   "metadata": {},
   "source": [
    "We obtained our [*dataset*](https://www.kaggle.com/datasets/martj42/international-football-results-from-1872-to-2017) from [*Kaggle*](https://www.kaggle.com/). This dataset contains data of international football matches that have been played since the year 1872 up till the present. The data has been split into two csv files:\n",
    "\n",
    "- results.csv - results of all international matches that have been played till date\n",
    "- shootouts.csv - results of all shootouts that have been played till date\n",
    "- goalscorers.csv - goalscorers from all international matches that have been played till date"
   ]
  },
  {
   "cell_type": "markdown",
   "id": "78f9a9e7",
   "metadata": {},
   "source": [
    "We will be using the following libraries in Python to carry out our analysis : \n",
    "- **Numpy** : it is used to perform a wide variety of mathematical operations on arrays\n",
    "- **Pandas** : it is built off of Numpy and is used for data analysis and associated manipulation of tabular data in Dataframes\n",
    "- **Matplotlib** : it is a comprehensive library for creating static, animated, and interactive visualisations in Python\n",
    "- **Seaborn** : it is built on top of Matplotlib and is used for making even more dynamic and statistical graphs in Python"
   ]
  },
  {
   "cell_type": "code",
   "execution_count": 1,
   "id": "d1ad304e",
   "metadata": {},
   "outputs": [],
   "source": [
    "import numpy as np\n",
    "import pandas as pd\n",
    "import matplotlib.pyplot as plt\n",
    "import seaborn as sns\n",
    "import plotly.express as px"
   ]
  },
  {
   "cell_type": "code",
   "execution_count": 2,
   "id": "df1da96e",
   "metadata": {},
   "outputs": [],
   "source": [
    "# reading the CSV files\n",
    "\n",
    "results_df = pd.read_csv('results.csv')\n",
    "shootouts_df = pd.read_csv('shootouts.csv')\n",
    "goalscorers_df = pd.read_csv('goalscorers.csv')"
   ]
  },
  {
   "cell_type": "markdown",
   "id": "081a8ad0",
   "metadata": {},
   "source": [
    "Let us see some sample data from these dataframes that we just created and get an idea of the data at hand"
   ]
  },
  {
   "cell_type": "code",
   "execution_count": 3,
   "id": "0aa5aa8c",
   "metadata": {
    "scrolled": false
   },
   "outputs": [
    {
     "data": {
      "text/html": [
       "<div>\n",
       "<style scoped>\n",
       "    .dataframe tbody tr th:only-of-type {\n",
       "        vertical-align: middle;\n",
       "    }\n",
       "\n",
       "    .dataframe tbody tr th {\n",
       "        vertical-align: top;\n",
       "    }\n",
       "\n",
       "    .dataframe thead th {\n",
       "        text-align: right;\n",
       "    }\n",
       "</style>\n",
       "<table border=\"1\" class=\"dataframe\">\n",
       "  <thead>\n",
       "    <tr style=\"text-align: right;\">\n",
       "      <th></th>\n",
       "      <th>date</th>\n",
       "      <th>home_team</th>\n",
       "      <th>away_team</th>\n",
       "      <th>home_score</th>\n",
       "      <th>away_score</th>\n",
       "      <th>tournament</th>\n",
       "      <th>city</th>\n",
       "      <th>country</th>\n",
       "      <th>neutral</th>\n",
       "    </tr>\n",
       "  </thead>\n",
       "  <tbody>\n",
       "    <tr>\n",
       "      <th>0</th>\n",
       "      <td>1872-11-30</td>\n",
       "      <td>Scotland</td>\n",
       "      <td>England</td>\n",
       "      <td>0</td>\n",
       "      <td>0</td>\n",
       "      <td>Friendly</td>\n",
       "      <td>Glasgow</td>\n",
       "      <td>Scotland</td>\n",
       "      <td>False</td>\n",
       "    </tr>\n",
       "    <tr>\n",
       "      <th>1</th>\n",
       "      <td>1873-03-08</td>\n",
       "      <td>England</td>\n",
       "      <td>Scotland</td>\n",
       "      <td>4</td>\n",
       "      <td>2</td>\n",
       "      <td>Friendly</td>\n",
       "      <td>London</td>\n",
       "      <td>England</td>\n",
       "      <td>False</td>\n",
       "    </tr>\n",
       "    <tr>\n",
       "      <th>2</th>\n",
       "      <td>1874-03-07</td>\n",
       "      <td>Scotland</td>\n",
       "      <td>England</td>\n",
       "      <td>2</td>\n",
       "      <td>1</td>\n",
       "      <td>Friendly</td>\n",
       "      <td>Glasgow</td>\n",
       "      <td>Scotland</td>\n",
       "      <td>False</td>\n",
       "    </tr>\n",
       "    <tr>\n",
       "      <th>3</th>\n",
       "      <td>1875-03-06</td>\n",
       "      <td>England</td>\n",
       "      <td>Scotland</td>\n",
       "      <td>2</td>\n",
       "      <td>2</td>\n",
       "      <td>Friendly</td>\n",
       "      <td>London</td>\n",
       "      <td>England</td>\n",
       "      <td>False</td>\n",
       "    </tr>\n",
       "    <tr>\n",
       "      <th>4</th>\n",
       "      <td>1876-03-04</td>\n",
       "      <td>Scotland</td>\n",
       "      <td>England</td>\n",
       "      <td>3</td>\n",
       "      <td>0</td>\n",
       "      <td>Friendly</td>\n",
       "      <td>Glasgow</td>\n",
       "      <td>Scotland</td>\n",
       "      <td>False</td>\n",
       "    </tr>\n",
       "    <tr>\n",
       "      <th>...</th>\n",
       "      <td>...</td>\n",
       "      <td>...</td>\n",
       "      <td>...</td>\n",
       "      <td>...</td>\n",
       "      <td>...</td>\n",
       "      <td>...</td>\n",
       "      <td>...</td>\n",
       "      <td>...</td>\n",
       "      <td>...</td>\n",
       "    </tr>\n",
       "    <tr>\n",
       "      <th>44757</th>\n",
       "      <td>2023-07-09</td>\n",
       "      <td>United States</td>\n",
       "      <td>Canada</td>\n",
       "      <td>2</td>\n",
       "      <td>2</td>\n",
       "      <td>Gold Cup</td>\n",
       "      <td>Cincinnati</td>\n",
       "      <td>United States</td>\n",
       "      <td>False</td>\n",
       "    </tr>\n",
       "    <tr>\n",
       "      <th>44758</th>\n",
       "      <td>2023-07-12</td>\n",
       "      <td>United States</td>\n",
       "      <td>Panama</td>\n",
       "      <td>1</td>\n",
       "      <td>1</td>\n",
       "      <td>Gold Cup</td>\n",
       "      <td>San Diego</td>\n",
       "      <td>United States</td>\n",
       "      <td>False</td>\n",
       "    </tr>\n",
       "    <tr>\n",
       "      <th>44759</th>\n",
       "      <td>2023-07-12</td>\n",
       "      <td>Jamaica</td>\n",
       "      <td>Mexico</td>\n",
       "      <td>0</td>\n",
       "      <td>3</td>\n",
       "      <td>Gold Cup</td>\n",
       "      <td>Paradise</td>\n",
       "      <td>United States</td>\n",
       "      <td>True</td>\n",
       "    </tr>\n",
       "    <tr>\n",
       "      <th>44760</th>\n",
       "      <td>2023-07-16</td>\n",
       "      <td>Kernow</td>\n",
       "      <td>Sápmi</td>\n",
       "      <td>2</td>\n",
       "      <td>1</td>\n",
       "      <td>CONIFA World Football Cup qualification</td>\n",
       "      <td>Falmouth</td>\n",
       "      <td>England</td>\n",
       "      <td>False</td>\n",
       "    </tr>\n",
       "    <tr>\n",
       "      <th>44761</th>\n",
       "      <td>2023-07-16</td>\n",
       "      <td>Mexico</td>\n",
       "      <td>Panama</td>\n",
       "      <td>1</td>\n",
       "      <td>0</td>\n",
       "      <td>Gold Cup</td>\n",
       "      <td>Inglewood</td>\n",
       "      <td>United States</td>\n",
       "      <td>True</td>\n",
       "    </tr>\n",
       "  </tbody>\n",
       "</table>\n",
       "<p>44762 rows × 9 columns</p>\n",
       "</div>"
      ],
      "text/plain": [
       "             date      home_team away_team  home_score  away_score  \\\n",
       "0      1872-11-30       Scotland   England           0           0   \n",
       "1      1873-03-08        England  Scotland           4           2   \n",
       "2      1874-03-07       Scotland   England           2           1   \n",
       "3      1875-03-06        England  Scotland           2           2   \n",
       "4      1876-03-04       Scotland   England           3           0   \n",
       "...           ...            ...       ...         ...         ...   \n",
       "44757  2023-07-09  United States    Canada           2           2   \n",
       "44758  2023-07-12  United States    Panama           1           1   \n",
       "44759  2023-07-12        Jamaica    Mexico           0           3   \n",
       "44760  2023-07-16         Kernow     Sápmi           2           1   \n",
       "44761  2023-07-16         Mexico    Panama           1           0   \n",
       "\n",
       "                                    tournament        city        country  \\\n",
       "0                                     Friendly     Glasgow       Scotland   \n",
       "1                                     Friendly      London        England   \n",
       "2                                     Friendly     Glasgow       Scotland   \n",
       "3                                     Friendly      London        England   \n",
       "4                                     Friendly     Glasgow       Scotland   \n",
       "...                                        ...         ...            ...   \n",
       "44757                                 Gold Cup  Cincinnati  United States   \n",
       "44758                                 Gold Cup   San Diego  United States   \n",
       "44759                                 Gold Cup    Paradise  United States   \n",
       "44760  CONIFA World Football Cup qualification    Falmouth        England   \n",
       "44761                                 Gold Cup   Inglewood  United States   \n",
       "\n",
       "       neutral  \n",
       "0        False  \n",
       "1        False  \n",
       "2        False  \n",
       "3        False  \n",
       "4        False  \n",
       "...        ...  \n",
       "44757    False  \n",
       "44758    False  \n",
       "44759     True  \n",
       "44760    False  \n",
       "44761     True  \n",
       "\n",
       "[44762 rows x 9 columns]"
      ]
     },
     "execution_count": 3,
     "metadata": {},
     "output_type": "execute_result"
    }
   ],
   "source": [
    "results_df"
   ]
  },
  {
   "cell_type": "code",
   "execution_count": 4,
   "id": "60b9cd06",
   "metadata": {},
   "outputs": [
    {
     "name": "stdout",
     "output_type": "stream",
     "text": [
      "<class 'pandas.core.frame.DataFrame'>\n",
      "RangeIndex: 44762 entries, 0 to 44761\n",
      "Data columns (total 9 columns):\n",
      " #   Column      Non-Null Count  Dtype \n",
      "---  ------      --------------  ----- \n",
      " 0   date        44762 non-null  object\n",
      " 1   home_team   44762 non-null  object\n",
      " 2   away_team   44762 non-null  object\n",
      " 3   home_score  44762 non-null  int64 \n",
      " 4   away_score  44762 non-null  int64 \n",
      " 5   tournament  44762 non-null  object\n",
      " 6   city        44762 non-null  object\n",
      " 7   country     44762 non-null  object\n",
      " 8   neutral     44762 non-null  bool  \n",
      "dtypes: bool(1), int64(2), object(6)\n",
      "memory usage: 2.8+ MB\n"
     ]
    }
   ],
   "source": [
    "results_df.info()"
   ]
  },
  {
   "cell_type": "code",
   "execution_count": 5,
   "id": "2769d7e9",
   "metadata": {},
   "outputs": [
    {
     "data": {
      "text/html": [
       "<div>\n",
       "<style scoped>\n",
       "    .dataframe tbody tr th:only-of-type {\n",
       "        vertical-align: middle;\n",
       "    }\n",
       "\n",
       "    .dataframe tbody tr th {\n",
       "        vertical-align: top;\n",
       "    }\n",
       "\n",
       "    .dataframe thead th {\n",
       "        text-align: right;\n",
       "    }\n",
       "</style>\n",
       "<table border=\"1\" class=\"dataframe\">\n",
       "  <thead>\n",
       "    <tr style=\"text-align: right;\">\n",
       "      <th></th>\n",
       "      <th>date</th>\n",
       "      <th>home_team</th>\n",
       "      <th>away_team</th>\n",
       "      <th>winner</th>\n",
       "    </tr>\n",
       "  </thead>\n",
       "  <tbody>\n",
       "    <tr>\n",
       "      <th>0</th>\n",
       "      <td>1967-08-22</td>\n",
       "      <td>India</td>\n",
       "      <td>Taiwan</td>\n",
       "      <td>Taiwan</td>\n",
       "    </tr>\n",
       "    <tr>\n",
       "      <th>1</th>\n",
       "      <td>1971-11-14</td>\n",
       "      <td>South Korea</td>\n",
       "      <td>Vietnam Republic</td>\n",
       "      <td>South Korea</td>\n",
       "    </tr>\n",
       "    <tr>\n",
       "      <th>2</th>\n",
       "      <td>1972-05-07</td>\n",
       "      <td>South Korea</td>\n",
       "      <td>Iraq</td>\n",
       "      <td>Iraq</td>\n",
       "    </tr>\n",
       "    <tr>\n",
       "      <th>3</th>\n",
       "      <td>1972-05-17</td>\n",
       "      <td>Thailand</td>\n",
       "      <td>South Korea</td>\n",
       "      <td>South Korea</td>\n",
       "    </tr>\n",
       "    <tr>\n",
       "      <th>4</th>\n",
       "      <td>1972-05-19</td>\n",
       "      <td>Thailand</td>\n",
       "      <td>Cambodia</td>\n",
       "      <td>Thailand</td>\n",
       "    </tr>\n",
       "    <tr>\n",
       "      <th>...</th>\n",
       "      <td>...</td>\n",
       "      <td>...</td>\n",
       "      <td>...</td>\n",
       "      <td>...</td>\n",
       "    </tr>\n",
       "    <tr>\n",
       "      <th>551</th>\n",
       "      <td>2023-06-20</td>\n",
       "      <td>Saint Kitts and Nevis</td>\n",
       "      <td>French Guiana</td>\n",
       "      <td>Saint Kitts and Nevis</td>\n",
       "    </tr>\n",
       "    <tr>\n",
       "      <th>552</th>\n",
       "      <td>2023-07-01</td>\n",
       "      <td>India</td>\n",
       "      <td>Lebanon</td>\n",
       "      <td>India</td>\n",
       "    </tr>\n",
       "    <tr>\n",
       "      <th>553</th>\n",
       "      <td>2023-07-04</td>\n",
       "      <td>India</td>\n",
       "      <td>Kuwait</td>\n",
       "      <td>India</td>\n",
       "    </tr>\n",
       "    <tr>\n",
       "      <th>554</th>\n",
       "      <td>2023-07-09</td>\n",
       "      <td>United States</td>\n",
       "      <td>Canada</td>\n",
       "      <td>United States</td>\n",
       "    </tr>\n",
       "    <tr>\n",
       "      <th>555</th>\n",
       "      <td>2023-07-12</td>\n",
       "      <td>United States</td>\n",
       "      <td>Panama</td>\n",
       "      <td>Panama</td>\n",
       "    </tr>\n",
       "  </tbody>\n",
       "</table>\n",
       "<p>556 rows × 4 columns</p>\n",
       "</div>"
      ],
      "text/plain": [
       "           date              home_team         away_team  \\\n",
       "0    1967-08-22                  India            Taiwan   \n",
       "1    1971-11-14            South Korea  Vietnam Republic   \n",
       "2    1972-05-07            South Korea              Iraq   \n",
       "3    1972-05-17               Thailand       South Korea   \n",
       "4    1972-05-19               Thailand          Cambodia   \n",
       "..          ...                    ...               ...   \n",
       "551  2023-06-20  Saint Kitts and Nevis     French Guiana   \n",
       "552  2023-07-01                  India           Lebanon   \n",
       "553  2023-07-04                  India            Kuwait   \n",
       "554  2023-07-09          United States            Canada   \n",
       "555  2023-07-12          United States            Panama   \n",
       "\n",
       "                    winner  \n",
       "0                   Taiwan  \n",
       "1              South Korea  \n",
       "2                     Iraq  \n",
       "3              South Korea  \n",
       "4                 Thailand  \n",
       "..                     ...  \n",
       "551  Saint Kitts and Nevis  \n",
       "552                  India  \n",
       "553                  India  \n",
       "554          United States  \n",
       "555                 Panama  \n",
       "\n",
       "[556 rows x 4 columns]"
      ]
     },
     "execution_count": 5,
     "metadata": {},
     "output_type": "execute_result"
    }
   ],
   "source": [
    "shootouts_df"
   ]
  },
  {
   "cell_type": "code",
   "execution_count": 6,
   "id": "8960818e",
   "metadata": {},
   "outputs": [
    {
     "name": "stdout",
     "output_type": "stream",
     "text": [
      "<class 'pandas.core.frame.DataFrame'>\n",
      "RangeIndex: 556 entries, 0 to 555\n",
      "Data columns (total 4 columns):\n",
      " #   Column     Non-Null Count  Dtype \n",
      "---  ------     --------------  ----- \n",
      " 0   date       556 non-null    object\n",
      " 1   home_team  556 non-null    object\n",
      " 2   away_team  556 non-null    object\n",
      " 3   winner     556 non-null    object\n",
      "dtypes: object(4)\n",
      "memory usage: 17.5+ KB\n"
     ]
    }
   ],
   "source": [
    "shootouts_df.info()"
   ]
  },
  {
   "cell_type": "code",
   "execution_count": 7,
   "id": "2d682638",
   "metadata": {},
   "outputs": [
    {
     "data": {
      "text/html": [
       "<div>\n",
       "<style scoped>\n",
       "    .dataframe tbody tr th:only-of-type {\n",
       "        vertical-align: middle;\n",
       "    }\n",
       "\n",
       "    .dataframe tbody tr th {\n",
       "        vertical-align: top;\n",
       "    }\n",
       "\n",
       "    .dataframe thead th {\n",
       "        text-align: right;\n",
       "    }\n",
       "</style>\n",
       "<table border=\"1\" class=\"dataframe\">\n",
       "  <thead>\n",
       "    <tr style=\"text-align: right;\">\n",
       "      <th></th>\n",
       "      <th>date</th>\n",
       "      <th>home_team</th>\n",
       "      <th>away_team</th>\n",
       "      <th>team</th>\n",
       "      <th>scorer</th>\n",
       "      <th>minute</th>\n",
       "      <th>own_goal</th>\n",
       "      <th>penalty</th>\n",
       "    </tr>\n",
       "  </thead>\n",
       "  <tbody>\n",
       "    <tr>\n",
       "      <th>0</th>\n",
       "      <td>1916-07-02</td>\n",
       "      <td>Chile</td>\n",
       "      <td>Uruguay</td>\n",
       "      <td>Uruguay</td>\n",
       "      <td>José Piendibene</td>\n",
       "      <td>44.0</td>\n",
       "      <td>False</td>\n",
       "      <td>False</td>\n",
       "    </tr>\n",
       "    <tr>\n",
       "      <th>1</th>\n",
       "      <td>1916-07-02</td>\n",
       "      <td>Chile</td>\n",
       "      <td>Uruguay</td>\n",
       "      <td>Uruguay</td>\n",
       "      <td>Isabelino Gradín</td>\n",
       "      <td>55.0</td>\n",
       "      <td>False</td>\n",
       "      <td>False</td>\n",
       "    </tr>\n",
       "    <tr>\n",
       "      <th>2</th>\n",
       "      <td>1916-07-02</td>\n",
       "      <td>Chile</td>\n",
       "      <td>Uruguay</td>\n",
       "      <td>Uruguay</td>\n",
       "      <td>Isabelino Gradín</td>\n",
       "      <td>70.0</td>\n",
       "      <td>False</td>\n",
       "      <td>False</td>\n",
       "    </tr>\n",
       "    <tr>\n",
       "      <th>3</th>\n",
       "      <td>1916-07-02</td>\n",
       "      <td>Chile</td>\n",
       "      <td>Uruguay</td>\n",
       "      <td>Uruguay</td>\n",
       "      <td>José Piendibene</td>\n",
       "      <td>75.0</td>\n",
       "      <td>False</td>\n",
       "      <td>False</td>\n",
       "    </tr>\n",
       "    <tr>\n",
       "      <th>4</th>\n",
       "      <td>1916-07-06</td>\n",
       "      <td>Argentina</td>\n",
       "      <td>Chile</td>\n",
       "      <td>Argentina</td>\n",
       "      <td>Alberto Ohaco</td>\n",
       "      <td>2.0</td>\n",
       "      <td>False</td>\n",
       "      <td>False</td>\n",
       "    </tr>\n",
       "    <tr>\n",
       "      <th>...</th>\n",
       "      <td>...</td>\n",
       "      <td>...</td>\n",
       "      <td>...</td>\n",
       "      <td>...</td>\n",
       "      <td>...</td>\n",
       "      <td>...</td>\n",
       "      <td>...</td>\n",
       "      <td>...</td>\n",
       "    </tr>\n",
       "    <tr>\n",
       "      <th>41108</th>\n",
       "      <td>2023-07-12</td>\n",
       "      <td>Jamaica</td>\n",
       "      <td>Mexico</td>\n",
       "      <td>Mexico</td>\n",
       "      <td>Luis Chávez</td>\n",
       "      <td>30.0</td>\n",
       "      <td>False</td>\n",
       "      <td>False</td>\n",
       "    </tr>\n",
       "    <tr>\n",
       "      <th>41109</th>\n",
       "      <td>2023-07-12</td>\n",
       "      <td>Jamaica</td>\n",
       "      <td>Mexico</td>\n",
       "      <td>Mexico</td>\n",
       "      <td>Roberto Alvarado</td>\n",
       "      <td>90.0</td>\n",
       "      <td>False</td>\n",
       "      <td>False</td>\n",
       "    </tr>\n",
       "    <tr>\n",
       "      <th>41110</th>\n",
       "      <td>2023-07-12</td>\n",
       "      <td>United States</td>\n",
       "      <td>Panama</td>\n",
       "      <td>Panama</td>\n",
       "      <td>Iván Anderson</td>\n",
       "      <td>99.0</td>\n",
       "      <td>False</td>\n",
       "      <td>False</td>\n",
       "    </tr>\n",
       "    <tr>\n",
       "      <th>41111</th>\n",
       "      <td>2023-07-12</td>\n",
       "      <td>United States</td>\n",
       "      <td>Panama</td>\n",
       "      <td>United States</td>\n",
       "      <td>Jesús Ferreira</td>\n",
       "      <td>105.0</td>\n",
       "      <td>False</td>\n",
       "      <td>False</td>\n",
       "    </tr>\n",
       "    <tr>\n",
       "      <th>41112</th>\n",
       "      <td>2023-07-16</td>\n",
       "      <td>Mexico</td>\n",
       "      <td>Panama</td>\n",
       "      <td>Mexico</td>\n",
       "      <td>Santiago Giménez</td>\n",
       "      <td>88.0</td>\n",
       "      <td>False</td>\n",
       "      <td>False</td>\n",
       "    </tr>\n",
       "  </tbody>\n",
       "</table>\n",
       "<p>41113 rows × 8 columns</p>\n",
       "</div>"
      ],
      "text/plain": [
       "             date      home_team away_team           team            scorer  \\\n",
       "0      1916-07-02          Chile   Uruguay        Uruguay   José Piendibene   \n",
       "1      1916-07-02          Chile   Uruguay        Uruguay  Isabelino Gradín   \n",
       "2      1916-07-02          Chile   Uruguay        Uruguay  Isabelino Gradín   \n",
       "3      1916-07-02          Chile   Uruguay        Uruguay   José Piendibene   \n",
       "4      1916-07-06      Argentina     Chile      Argentina     Alberto Ohaco   \n",
       "...           ...            ...       ...            ...               ...   \n",
       "41108  2023-07-12        Jamaica    Mexico         Mexico       Luis Chávez   \n",
       "41109  2023-07-12        Jamaica    Mexico         Mexico  Roberto Alvarado   \n",
       "41110  2023-07-12  United States    Panama         Panama     Iván Anderson   \n",
       "41111  2023-07-12  United States    Panama  United States    Jesús Ferreira   \n",
       "41112  2023-07-16         Mexico    Panama         Mexico  Santiago Giménez   \n",
       "\n",
       "       minute  own_goal  penalty  \n",
       "0        44.0     False    False  \n",
       "1        55.0     False    False  \n",
       "2        70.0     False    False  \n",
       "3        75.0     False    False  \n",
       "4         2.0     False    False  \n",
       "...       ...       ...      ...  \n",
       "41108    30.0     False    False  \n",
       "41109    90.0     False    False  \n",
       "41110    99.0     False    False  \n",
       "41111   105.0     False    False  \n",
       "41112    88.0     False    False  \n",
       "\n",
       "[41113 rows x 8 columns]"
      ]
     },
     "execution_count": 7,
     "metadata": {},
     "output_type": "execute_result"
    }
   ],
   "source": [
    "goalscorers_df"
   ]
  },
  {
   "cell_type": "code",
   "execution_count": 8,
   "id": "608b5d2c",
   "metadata": {},
   "outputs": [
    {
     "name": "stdout",
     "output_type": "stream",
     "text": [
      "<class 'pandas.core.frame.DataFrame'>\n",
      "RangeIndex: 41113 entries, 0 to 41112\n",
      "Data columns (total 8 columns):\n",
      " #   Column     Non-Null Count  Dtype  \n",
      "---  ------     --------------  -----  \n",
      " 0   date       41113 non-null  object \n",
      " 1   home_team  41113 non-null  object \n",
      " 2   away_team  41113 non-null  object \n",
      " 3   team       41113 non-null  object \n",
      " 4   scorer     41064 non-null  object \n",
      " 5   minute     40855 non-null  float64\n",
      " 6   own_goal   41113 non-null  bool   \n",
      " 7   penalty    41113 non-null  bool   \n",
      "dtypes: bool(2), float64(1), object(5)\n",
      "memory usage: 2.0+ MB\n"
     ]
    }
   ],
   "source": [
    "goalscorers_df.info()"
   ]
  },
  {
   "cell_type": "markdown",
   "id": "195728f9",
   "metadata": {},
   "source": [
    "Loosk like goalscorers_df has some null values. Not to worry, we shall deal with it in the next section."
   ]
  },
  {
   "cell_type": "markdown",
   "id": "d13b6551",
   "metadata": {},
   "source": [
    "## _Data Preparation and Cleaning_\n",
    "\n",
    "***Data preparation is the process of cleaning and transforming raw data prior to processing and analysis. It is an important step prior to processing and often involves reformatting data, making corrections to data and the combining of data sets to enrich data. Having clean data will ultimately increase overall productivity and allow for the highest quality information in your decision-making.***"
   ]
  },
  {
   "cell_type": "markdown",
   "id": "6c129b8b",
   "metadata": {},
   "source": [
    "Let us add a new column in the shootouts dataframe which will come in handy post-merging. This column will tell us if the match was extended for a penalty shootout or not"
   ]
  },
  {
   "cell_type": "code",
   "execution_count": 9,
   "id": "67092c52",
   "metadata": {},
   "outputs": [],
   "source": [
    "shootouts_df['shootout'] = True"
   ]
  },
  {
   "cell_type": "markdown",
   "id": "3a9ea713",
   "metadata": {},
   "source": [
    "Now let us merge both the dataframes to combine shooutout results. This way we do not have to hop between two dataframes again and again as all data is in one dataframe."
   ]
  },
  {
   "cell_type": "code",
   "execution_count": 10,
   "id": "b1da82ef",
   "metadata": {},
   "outputs": [],
   "source": [
    "rs = pd.merge(results_df, shootouts_df, how = 'outer', on = ['date', 'home_team', 'away_team'])"
   ]
  },
  {
   "cell_type": "code",
   "execution_count": 11,
   "id": "e12df5a5",
   "metadata": {},
   "outputs": [
    {
     "data": {
      "text/html": [
       "<div>\n",
       "<style scoped>\n",
       "    .dataframe tbody tr th:only-of-type {\n",
       "        vertical-align: middle;\n",
       "    }\n",
       "\n",
       "    .dataframe tbody tr th {\n",
       "        vertical-align: top;\n",
       "    }\n",
       "\n",
       "    .dataframe thead th {\n",
       "        text-align: right;\n",
       "    }\n",
       "</style>\n",
       "<table border=\"1\" class=\"dataframe\">\n",
       "  <thead>\n",
       "    <tr style=\"text-align: right;\">\n",
       "      <th></th>\n",
       "      <th>date</th>\n",
       "      <th>home_team</th>\n",
       "      <th>away_team</th>\n",
       "      <th>home_score</th>\n",
       "      <th>away_score</th>\n",
       "      <th>tournament</th>\n",
       "      <th>city</th>\n",
       "      <th>country</th>\n",
       "      <th>neutral</th>\n",
       "      <th>winner</th>\n",
       "      <th>shootout</th>\n",
       "    </tr>\n",
       "  </thead>\n",
       "  <tbody>\n",
       "    <tr>\n",
       "      <th>0</th>\n",
       "      <td>1872-11-30</td>\n",
       "      <td>Scotland</td>\n",
       "      <td>England</td>\n",
       "      <td>0.0</td>\n",
       "      <td>0.0</td>\n",
       "      <td>Friendly</td>\n",
       "      <td>Glasgow</td>\n",
       "      <td>Scotland</td>\n",
       "      <td>False</td>\n",
       "      <td>NaN</td>\n",
       "      <td>NaN</td>\n",
       "    </tr>\n",
       "    <tr>\n",
       "      <th>1</th>\n",
       "      <td>1873-03-08</td>\n",
       "      <td>England</td>\n",
       "      <td>Scotland</td>\n",
       "      <td>4.0</td>\n",
       "      <td>2.0</td>\n",
       "      <td>Friendly</td>\n",
       "      <td>London</td>\n",
       "      <td>England</td>\n",
       "      <td>False</td>\n",
       "      <td>NaN</td>\n",
       "      <td>NaN</td>\n",
       "    </tr>\n",
       "    <tr>\n",
       "      <th>2</th>\n",
       "      <td>1874-03-07</td>\n",
       "      <td>Scotland</td>\n",
       "      <td>England</td>\n",
       "      <td>2.0</td>\n",
       "      <td>1.0</td>\n",
       "      <td>Friendly</td>\n",
       "      <td>Glasgow</td>\n",
       "      <td>Scotland</td>\n",
       "      <td>False</td>\n",
       "      <td>NaN</td>\n",
       "      <td>NaN</td>\n",
       "    </tr>\n",
       "    <tr>\n",
       "      <th>3</th>\n",
       "      <td>1875-03-06</td>\n",
       "      <td>England</td>\n",
       "      <td>Scotland</td>\n",
       "      <td>2.0</td>\n",
       "      <td>2.0</td>\n",
       "      <td>Friendly</td>\n",
       "      <td>London</td>\n",
       "      <td>England</td>\n",
       "      <td>False</td>\n",
       "      <td>NaN</td>\n",
       "      <td>NaN</td>\n",
       "    </tr>\n",
       "    <tr>\n",
       "      <th>4</th>\n",
       "      <td>1876-03-04</td>\n",
       "      <td>Scotland</td>\n",
       "      <td>England</td>\n",
       "      <td>3.0</td>\n",
       "      <td>0.0</td>\n",
       "      <td>Friendly</td>\n",
       "      <td>Glasgow</td>\n",
       "      <td>Scotland</td>\n",
       "      <td>False</td>\n",
       "      <td>NaN</td>\n",
       "      <td>NaN</td>\n",
       "    </tr>\n",
       "    <tr>\n",
       "      <th>...</th>\n",
       "      <td>...</td>\n",
       "      <td>...</td>\n",
       "      <td>...</td>\n",
       "      <td>...</td>\n",
       "      <td>...</td>\n",
       "      <td>...</td>\n",
       "      <td>...</td>\n",
       "      <td>...</td>\n",
       "      <td>...</td>\n",
       "      <td>...</td>\n",
       "      <td>...</td>\n",
       "    </tr>\n",
       "    <tr>\n",
       "      <th>44758</th>\n",
       "      <td>2023-07-12</td>\n",
       "      <td>United States</td>\n",
       "      <td>Panama</td>\n",
       "      <td>1.0</td>\n",
       "      <td>1.0</td>\n",
       "      <td>Gold Cup</td>\n",
       "      <td>San Diego</td>\n",
       "      <td>United States</td>\n",
       "      <td>False</td>\n",
       "      <td>Panama</td>\n",
       "      <td>True</td>\n",
       "    </tr>\n",
       "    <tr>\n",
       "      <th>44759</th>\n",
       "      <td>2023-07-12</td>\n",
       "      <td>Jamaica</td>\n",
       "      <td>Mexico</td>\n",
       "      <td>0.0</td>\n",
       "      <td>3.0</td>\n",
       "      <td>Gold Cup</td>\n",
       "      <td>Paradise</td>\n",
       "      <td>United States</td>\n",
       "      <td>True</td>\n",
       "      <td>NaN</td>\n",
       "      <td>NaN</td>\n",
       "    </tr>\n",
       "    <tr>\n",
       "      <th>44760</th>\n",
       "      <td>2023-07-16</td>\n",
       "      <td>Kernow</td>\n",
       "      <td>Sápmi</td>\n",
       "      <td>2.0</td>\n",
       "      <td>1.0</td>\n",
       "      <td>CONIFA World Football Cup qualification</td>\n",
       "      <td>Falmouth</td>\n",
       "      <td>England</td>\n",
       "      <td>False</td>\n",
       "      <td>NaN</td>\n",
       "      <td>NaN</td>\n",
       "    </tr>\n",
       "    <tr>\n",
       "      <th>44761</th>\n",
       "      <td>2023-07-16</td>\n",
       "      <td>Mexico</td>\n",
       "      <td>Panama</td>\n",
       "      <td>1.0</td>\n",
       "      <td>0.0</td>\n",
       "      <td>Gold Cup</td>\n",
       "      <td>Inglewood</td>\n",
       "      <td>United States</td>\n",
       "      <td>True</td>\n",
       "      <td>NaN</td>\n",
       "      <td>NaN</td>\n",
       "    </tr>\n",
       "    <tr>\n",
       "      <th>44762</th>\n",
       "      <td>2011-06-29</td>\n",
       "      <td>Saare County</td>\n",
       "      <td>Åland Islands</td>\n",
       "      <td>NaN</td>\n",
       "      <td>NaN</td>\n",
       "      <td>NaN</td>\n",
       "      <td>NaN</td>\n",
       "      <td>NaN</td>\n",
       "      <td>NaN</td>\n",
       "      <td>Åland Islands</td>\n",
       "      <td>True</td>\n",
       "    </tr>\n",
       "  </tbody>\n",
       "</table>\n",
       "<p>44763 rows × 11 columns</p>\n",
       "</div>"
      ],
      "text/plain": [
       "             date      home_team      away_team  home_score  away_score  \\\n",
       "0      1872-11-30       Scotland        England         0.0         0.0   \n",
       "1      1873-03-08        England       Scotland         4.0         2.0   \n",
       "2      1874-03-07       Scotland        England         2.0         1.0   \n",
       "3      1875-03-06        England       Scotland         2.0         2.0   \n",
       "4      1876-03-04       Scotland        England         3.0         0.0   \n",
       "...           ...            ...            ...         ...         ...   \n",
       "44758  2023-07-12  United States         Panama         1.0         1.0   \n",
       "44759  2023-07-12        Jamaica         Mexico         0.0         3.0   \n",
       "44760  2023-07-16         Kernow          Sápmi         2.0         1.0   \n",
       "44761  2023-07-16         Mexico         Panama         1.0         0.0   \n",
       "44762  2011-06-29   Saare County  Åland Islands         NaN         NaN   \n",
       "\n",
       "                                    tournament       city        country  \\\n",
       "0                                     Friendly    Glasgow       Scotland   \n",
       "1                                     Friendly     London        England   \n",
       "2                                     Friendly    Glasgow       Scotland   \n",
       "3                                     Friendly     London        England   \n",
       "4                                     Friendly    Glasgow       Scotland   \n",
       "...                                        ...        ...            ...   \n",
       "44758                                 Gold Cup  San Diego  United States   \n",
       "44759                                 Gold Cup   Paradise  United States   \n",
       "44760  CONIFA World Football Cup qualification   Falmouth        England   \n",
       "44761                                 Gold Cup  Inglewood  United States   \n",
       "44762                                      NaN        NaN            NaN   \n",
       "\n",
       "      neutral         winner shootout  \n",
       "0       False            NaN      NaN  \n",
       "1       False            NaN      NaN  \n",
       "2       False            NaN      NaN  \n",
       "3       False            NaN      NaN  \n",
       "4       False            NaN      NaN  \n",
       "...       ...            ...      ...  \n",
       "44758   False         Panama     True  \n",
       "44759    True            NaN      NaN  \n",
       "44760   False            NaN      NaN  \n",
       "44761    True            NaN      NaN  \n",
       "44762     NaN  Åland Islands     True  \n",
       "\n",
       "[44763 rows x 11 columns]"
      ]
     },
     "execution_count": 11,
     "metadata": {},
     "output_type": "execute_result"
    }
   ],
   "source": [
    "rs"
   ]
  },
  {
   "cell_type": "markdown",
   "id": "8894e4ff",
   "metadata": {},
   "source": [
    "Our data looks good but now it looks like we have some null values that need to be addressed."
   ]
  },
  {
   "cell_type": "markdown",
   "id": "505270b2",
   "metadata": {},
   "source": [
    "On top of that we also seem to have a row with a lot of incomplete data. It would be bast for us to drop the that row (last row) in the dataframe as it seems to be an outlier and won't have any impact on our analysis."
   ]
  },
  {
   "cell_type": "code",
   "execution_count": 12,
   "id": "fec4c20d",
   "metadata": {},
   "outputs": [],
   "source": [
    "rs.dropna(subset=['tournament'], inplace=True)"
   ]
  },
  {
   "cell_type": "markdown",
   "id": "c8f1a7fa",
   "metadata": {},
   "source": [
    "Let us rename the columns for consistency"
   ]
  },
  {
   "cell_type": "code",
   "execution_count": 13,
   "id": "c8217fd8",
   "metadata": {},
   "outputs": [],
   "source": [
    "rs.rename(columns = {'date':'Date',\n",
    "                     'home_team':'Home Team',\n",
    "                     'away_team':'Away Team',\n",
    "                     'home_score':'Home Score',\n",
    "                     'away_score':'Away Score',\n",
    "                     'tournament':'Tournament',\n",
    "                     'city':'City',\n",
    "                     'country':'Country',\n",
    "                     'neutral':'Neutral Venue',\n",
    "                     'winner':'Winning Team',\n",
    "                     'shootout':'Shootout'\n",
    "                     }, inplace = True)\n",
    "\n",
    "\n",
    "goalscorers_df.rename(columns = {'date':'Date',\n",
    "                     'home_team':'Home Team',\n",
    "                     'away_team':'Away Team',\n",
    "                     'team':'Scorer Team',\n",
    "                     'scorer':'Scorer',\n",
    "                     'minute':'Minute',\n",
    "                     'own_goal':'Own Goal',\n",
    "                     'penalty':'Penalty'\n",
    "                     }, inplace = True)"
   ]
  },
  {
   "cell_type": "markdown",
   "id": "b313e375",
   "metadata": {},
   "source": [
    "We are changing date format from 'object' to 'datetime' and then adding an extra column 'Year' for more accurate analysis"
   ]
  },
  {
   "cell_type": "code",
   "execution_count": 14,
   "id": "f67fd246",
   "metadata": {},
   "outputs": [],
   "source": [
    "# changing date format from 'object' to 'datetime'\n",
    "rs['Date'] = pd.to_datetime(rs['Date'])\n",
    "\n",
    "# adding a new column 'year' by splitting the 'date' column\n",
    "rs['Year'] = pd.DatetimeIndex(rs['Date']).year\n",
    "\n",
    "#-------------------------------------------------------------------\n",
    "\n",
    "# changing date format from 'object' to 'datetime'\n",
    "goalscorers_df['Date'] = pd.to_datetime(goalscorers_df['Date'])\n",
    "\n",
    "# adding a new column 'year' by splitting the 'date' column\n",
    "goalscorers_df['Year'] = pd.DatetimeIndex(goalscorers_df['Date']).year"
   ]
  },
  {
   "cell_type": "markdown",
   "id": "0ac68b43",
   "metadata": {},
   "source": [
    "We shall now creating a column that displays the outcome of the match such as who won, lost or drew the game."
   ]
  },
  {
   "cell_type": "code",
   "execution_count": 15,
   "id": "cd8afa3c",
   "metadata": {},
   "outputs": [],
   "source": [
    "# winning team\n",
    "\n",
    "rs.loc[rs['Home Score'] > rs['Away Score'], 'Winning Team'] = rs['Home Team']\n",
    "rs.loc[rs['Home Score'] < rs['Away Score'], 'Winning Team'] = rs['Away Team']\n",
    "\n",
    "# losing team\n",
    "\n",
    "rs.loc[rs['Home Team']== rs['Winning Team'], 'Losing Team'] = rs['Away Team']\n",
    "rs.loc[rs['Away Team'] == rs['Winning Team'], 'Losing Team'] = rs['Home Team']"
   ]
  },
  {
   "cell_type": "markdown",
   "id": "ce26a9a8",
   "metadata": {},
   "source": [
    "Replacing NULL values wherever necessary"
   ]
  },
  {
   "cell_type": "code",
   "execution_count": 16,
   "id": "6a1eae11",
   "metadata": {},
   "outputs": [],
   "source": [
    "# cleaning NaN values\n",
    "\n",
    "rs['Winning Team'].fillna('Draw', inplace = True)\n",
    "rs['Shootout'].fillna(False, inplace = True)\n",
    "rs['Losing Team'].fillna('Draw', inplace = True)"
   ]
  },
  {
   "cell_type": "markdown",
   "id": "c0fa4029",
   "metadata": {},
   "source": [
    "Correcting error(s) in the outcome of a game that was missing in the extracted data. Even though the game between Morocco and Guinea ended in a draw it resulted in Morocco winning AFCON that year since the format back then did not feature knockout games hence Morocco won the tournament as a result of finishing top of the group. The draw against Guinea gave them that crucial point which meant they were AFCON champions."
   ]
  },
  {
   "cell_type": "code",
   "execution_count": 17,
   "id": "746271da",
   "metadata": {},
   "outputs": [],
   "source": [
    "rs.loc[rs.Date == '1976-03-14', 'Winning Team'] = 'Morocco'\n",
    "rs.loc[rs.Date == '1976-03-14', 'Losing Team'] = 'Guinea'"
   ]
  },
  {
   "cell_type": "markdown",
   "id": "6702d20e",
   "metadata": {},
   "source": [
    "Let us reposition the 'Year' and 'Shootout' columns for better visual understanding"
   ]
  },
  {
   "cell_type": "code",
   "execution_count": 18,
   "id": "858bdce6",
   "metadata": {},
   "outputs": [],
   "source": [
    "#repositioning columns for better understanding\n",
    "\n",
    "year_rs = rs.pop('Year')\n",
    "rs.insert(0, 'Year', year_rs)\n",
    "\n",
    "shootout = rs.pop('Shootout')\n",
    "rs.insert(6, 'Shootout', shootout)\n",
    "\n",
    "year_gs = goalscorers_df.pop('Year')\n",
    "goalscorers_df.insert(0, 'Year', year_gs)"
   ]
  },
  {
   "cell_type": "markdown",
   "id": "dd629919",
   "metadata": {},
   "source": [
    "Let us merge the goalscorers and the results x shootouts dataframes in order to get as much relevant data as possible for the analysis"
   ]
  },
  {
   "cell_type": "code",
   "execution_count": 19,
   "id": "7e8777c9",
   "metadata": {},
   "outputs": [],
   "source": [
    "gs = pd.merge(goalscorers_df, rs, how = 'inner', on = ['Year', 'Date', 'Home Team', 'Away Team'])"
   ]
  },
  {
   "cell_type": "markdown",
   "id": "e4fc25df",
   "metadata": {},
   "source": [
    "We noticed earlier that the 'Scorer' and the 'Minute columns in the goalscorers dataframe had some null values. Let us look a little deeper into that and see what we can do "
   ]
  },
  {
   "cell_type": "code",
   "execution_count": 20,
   "metadata": {},
   "outputs": [
    {
     "data": {
      "text/plain": [
       "Scorer\n",
       "False    41064\n",
       "True        49\n",
       "Name: count, dtype: int64"
      ]
     },
     "execution_count": 20,
     "metadata": {},
     "output_type": "execute_result"
    }
   ],
   "source": [
    "gs['Scorer'].isna().value_counts()"
   ]
  },
  {
   "cell_type": "code",
   "execution_count": 21,
   "id": "538a2093",
   "metadata": {},
   "outputs": [
    {
     "data": {
      "text/plain": [
       "Minute\n",
       "False    40855\n",
       "True       258\n",
       "Name: count, dtype: int64"
      ]
     },
     "execution_count": 21,
     "metadata": {},
     "output_type": "execute_result"
    }
   ],
   "source": [
    "gs['Minute'].isna().value_counts()"
   ]
  },
  {
   "cell_type": "markdown",
   "id": "3988c9f5",
   "metadata": {},
   "source": [
    "Let's see which tournaments these null values are a part of"
   ]
  },
  {
   "cell_type": "code",
   "execution_count": 22,
   "metadata": {},
   "outputs": [
    {
     "data": {
      "text/plain": [
       "Tournament\n",
       "Oceania Nations Cup             111\n",
       "FIFA World Cup qualification    104\n",
       "African Cup of Nations           30\n",
       "AFC Asian Cup                    13\n",
       "Name: count, dtype: int64"
      ]
     },
     "execution_count": 22,
     "metadata": {},
     "output_type": "execute_result"
    }
   ],
   "source": [
    "gs[gs.isnull().any(axis=1)]['Tournament'].value_counts()"
   ]
  },
  {
   "cell_type": "markdown",
   "id": "0511ea00",
   "metadata": {},
   "source": [
    "Based off of what we have seen, it won't do us much harm if we were to drop these rows containing null values. Let us go ahead and do that."
   ]
  },
  {
   "cell_type": "code",
   "execution_count": 23,
   "metadata": {},
   "outputs": [],
   "source": [
    "gs.dropna(subset=['Minute'], inplace=True)"
   ]
  },
  {
   "cell_type": "code",
   "execution_count": 24,
   "id": "7a8338df",
   "metadata": {},
   "outputs": [
    {
     "data": {
      "text/html": [
       "<div>\n",
       "<style scoped>\n",
       "    .dataframe tbody tr th:only-of-type {\n",
       "        vertical-align: middle;\n",
       "    }\n",
       "\n",
       "    .dataframe tbody tr th {\n",
       "        vertical-align: top;\n",
       "    }\n",
       "\n",
       "    .dataframe thead th {\n",
       "        text-align: right;\n",
       "    }\n",
       "</style>\n",
       "<table border=\"1\" class=\"dataframe\">\n",
       "  <thead>\n",
       "    <tr style=\"text-align: right;\">\n",
       "      <th></th>\n",
       "      <th>Year</th>\n",
       "      <th>Date</th>\n",
       "      <th>Home Team</th>\n",
       "      <th>Away Team</th>\n",
       "      <th>Scorer Team</th>\n",
       "      <th>Scorer</th>\n",
       "      <th>Minute</th>\n",
       "      <th>Own Goal</th>\n",
       "      <th>Penalty</th>\n",
       "      <th>Home Score</th>\n",
       "      <th>Away Score</th>\n",
       "      <th>Shootout</th>\n",
       "      <th>Tournament</th>\n",
       "      <th>City</th>\n",
       "      <th>Country</th>\n",
       "      <th>Neutral Venue</th>\n",
       "      <th>Winning Team</th>\n",
       "      <th>Losing Team</th>\n",
       "    </tr>\n",
       "  </thead>\n",
       "  <tbody>\n",
       "    <tr>\n",
       "      <th>0</th>\n",
       "      <td>1916</td>\n",
       "      <td>1916-07-02</td>\n",
       "      <td>Chile</td>\n",
       "      <td>Uruguay</td>\n",
       "      <td>Uruguay</td>\n",
       "      <td>José Piendibene</td>\n",
       "      <td>44.0</td>\n",
       "      <td>False</td>\n",
       "      <td>False</td>\n",
       "      <td>0.0</td>\n",
       "      <td>4.0</td>\n",
       "      <td>False</td>\n",
       "      <td>Copa América</td>\n",
       "      <td>Buenos Aires</td>\n",
       "      <td>Argentina</td>\n",
       "      <td>True</td>\n",
       "      <td>Uruguay</td>\n",
       "      <td>Chile</td>\n",
       "    </tr>\n",
       "    <tr>\n",
       "      <th>1</th>\n",
       "      <td>1916</td>\n",
       "      <td>1916-07-02</td>\n",
       "      <td>Chile</td>\n",
       "      <td>Uruguay</td>\n",
       "      <td>Uruguay</td>\n",
       "      <td>Isabelino Gradín</td>\n",
       "      <td>55.0</td>\n",
       "      <td>False</td>\n",
       "      <td>False</td>\n",
       "      <td>0.0</td>\n",
       "      <td>4.0</td>\n",
       "      <td>False</td>\n",
       "      <td>Copa América</td>\n",
       "      <td>Buenos Aires</td>\n",
       "      <td>Argentina</td>\n",
       "      <td>True</td>\n",
       "      <td>Uruguay</td>\n",
       "      <td>Chile</td>\n",
       "    </tr>\n",
       "    <tr>\n",
       "      <th>2</th>\n",
       "      <td>1916</td>\n",
       "      <td>1916-07-02</td>\n",
       "      <td>Chile</td>\n",
       "      <td>Uruguay</td>\n",
       "      <td>Uruguay</td>\n",
       "      <td>Isabelino Gradín</td>\n",
       "      <td>70.0</td>\n",
       "      <td>False</td>\n",
       "      <td>False</td>\n",
       "      <td>0.0</td>\n",
       "      <td>4.0</td>\n",
       "      <td>False</td>\n",
       "      <td>Copa América</td>\n",
       "      <td>Buenos Aires</td>\n",
       "      <td>Argentina</td>\n",
       "      <td>True</td>\n",
       "      <td>Uruguay</td>\n",
       "      <td>Chile</td>\n",
       "    </tr>\n",
       "    <tr>\n",
       "      <th>3</th>\n",
       "      <td>1916</td>\n",
       "      <td>1916-07-02</td>\n",
       "      <td>Chile</td>\n",
       "      <td>Uruguay</td>\n",
       "      <td>Uruguay</td>\n",
       "      <td>José Piendibene</td>\n",
       "      <td>75.0</td>\n",
       "      <td>False</td>\n",
       "      <td>False</td>\n",
       "      <td>0.0</td>\n",
       "      <td>4.0</td>\n",
       "      <td>False</td>\n",
       "      <td>Copa América</td>\n",
       "      <td>Buenos Aires</td>\n",
       "      <td>Argentina</td>\n",
       "      <td>True</td>\n",
       "      <td>Uruguay</td>\n",
       "      <td>Chile</td>\n",
       "    </tr>\n",
       "    <tr>\n",
       "      <th>4</th>\n",
       "      <td>1916</td>\n",
       "      <td>1916-07-06</td>\n",
       "      <td>Argentina</td>\n",
       "      <td>Chile</td>\n",
       "      <td>Argentina</td>\n",
       "      <td>Alberto Ohaco</td>\n",
       "      <td>2.0</td>\n",
       "      <td>False</td>\n",
       "      <td>False</td>\n",
       "      <td>6.0</td>\n",
       "      <td>1.0</td>\n",
       "      <td>False</td>\n",
       "      <td>Copa América</td>\n",
       "      <td>Buenos Aires</td>\n",
       "      <td>Argentina</td>\n",
       "      <td>False</td>\n",
       "      <td>Argentina</td>\n",
       "      <td>Chile</td>\n",
       "    </tr>\n",
       "    <tr>\n",
       "      <th>...</th>\n",
       "      <td>...</td>\n",
       "      <td>...</td>\n",
       "      <td>...</td>\n",
       "      <td>...</td>\n",
       "      <td>...</td>\n",
       "      <td>...</td>\n",
       "      <td>...</td>\n",
       "      <td>...</td>\n",
       "      <td>...</td>\n",
       "      <td>...</td>\n",
       "      <td>...</td>\n",
       "      <td>...</td>\n",
       "      <td>...</td>\n",
       "      <td>...</td>\n",
       "      <td>...</td>\n",
       "      <td>...</td>\n",
       "      <td>...</td>\n",
       "      <td>...</td>\n",
       "    </tr>\n",
       "    <tr>\n",
       "      <th>41108</th>\n",
       "      <td>2023</td>\n",
       "      <td>2023-07-12</td>\n",
       "      <td>Jamaica</td>\n",
       "      <td>Mexico</td>\n",
       "      <td>Mexico</td>\n",
       "      <td>Luis Chávez</td>\n",
       "      <td>30.0</td>\n",
       "      <td>False</td>\n",
       "      <td>False</td>\n",
       "      <td>0.0</td>\n",
       "      <td>3.0</td>\n",
       "      <td>False</td>\n",
       "      <td>Gold Cup</td>\n",
       "      <td>Paradise</td>\n",
       "      <td>United States</td>\n",
       "      <td>True</td>\n",
       "      <td>Mexico</td>\n",
       "      <td>Jamaica</td>\n",
       "    </tr>\n",
       "    <tr>\n",
       "      <th>41109</th>\n",
       "      <td>2023</td>\n",
       "      <td>2023-07-12</td>\n",
       "      <td>Jamaica</td>\n",
       "      <td>Mexico</td>\n",
       "      <td>Mexico</td>\n",
       "      <td>Roberto Alvarado</td>\n",
       "      <td>90.0</td>\n",
       "      <td>False</td>\n",
       "      <td>False</td>\n",
       "      <td>0.0</td>\n",
       "      <td>3.0</td>\n",
       "      <td>False</td>\n",
       "      <td>Gold Cup</td>\n",
       "      <td>Paradise</td>\n",
       "      <td>United States</td>\n",
       "      <td>True</td>\n",
       "      <td>Mexico</td>\n",
       "      <td>Jamaica</td>\n",
       "    </tr>\n",
       "    <tr>\n",
       "      <th>41110</th>\n",
       "      <td>2023</td>\n",
       "      <td>2023-07-12</td>\n",
       "      <td>United States</td>\n",
       "      <td>Panama</td>\n",
       "      <td>Panama</td>\n",
       "      <td>Iván Anderson</td>\n",
       "      <td>99.0</td>\n",
       "      <td>False</td>\n",
       "      <td>False</td>\n",
       "      <td>1.0</td>\n",
       "      <td>1.0</td>\n",
       "      <td>True</td>\n",
       "      <td>Gold Cup</td>\n",
       "      <td>San Diego</td>\n",
       "      <td>United States</td>\n",
       "      <td>False</td>\n",
       "      <td>Panama</td>\n",
       "      <td>United States</td>\n",
       "    </tr>\n",
       "    <tr>\n",
       "      <th>41111</th>\n",
       "      <td>2023</td>\n",
       "      <td>2023-07-12</td>\n",
       "      <td>United States</td>\n",
       "      <td>Panama</td>\n",
       "      <td>United States</td>\n",
       "      <td>Jesús Ferreira</td>\n",
       "      <td>105.0</td>\n",
       "      <td>False</td>\n",
       "      <td>False</td>\n",
       "      <td>1.0</td>\n",
       "      <td>1.0</td>\n",
       "      <td>True</td>\n",
       "      <td>Gold Cup</td>\n",
       "      <td>San Diego</td>\n",
       "      <td>United States</td>\n",
       "      <td>False</td>\n",
       "      <td>Panama</td>\n",
       "      <td>United States</td>\n",
       "    </tr>\n",
       "    <tr>\n",
       "      <th>41112</th>\n",
       "      <td>2023</td>\n",
       "      <td>2023-07-16</td>\n",
       "      <td>Mexico</td>\n",
       "      <td>Panama</td>\n",
       "      <td>Mexico</td>\n",
       "      <td>Santiago Giménez</td>\n",
       "      <td>88.0</td>\n",
       "      <td>False</td>\n",
       "      <td>False</td>\n",
       "      <td>1.0</td>\n",
       "      <td>0.0</td>\n",
       "      <td>False</td>\n",
       "      <td>Gold Cup</td>\n",
       "      <td>Inglewood</td>\n",
       "      <td>United States</td>\n",
       "      <td>True</td>\n",
       "      <td>Mexico</td>\n",
       "      <td>Panama</td>\n",
       "    </tr>\n",
       "  </tbody>\n",
       "</table>\n",
       "<p>40855 rows × 18 columns</p>\n",
       "</div>"
      ],
      "text/plain": [
       "       Year       Date      Home Team Away Team    Scorer Team  \\\n",
       "0      1916 1916-07-02          Chile   Uruguay        Uruguay   \n",
       "1      1916 1916-07-02          Chile   Uruguay        Uruguay   \n",
       "2      1916 1916-07-02          Chile   Uruguay        Uruguay   \n",
       "3      1916 1916-07-02          Chile   Uruguay        Uruguay   \n",
       "4      1916 1916-07-06      Argentina     Chile      Argentina   \n",
       "...     ...        ...            ...       ...            ...   \n",
       "41108  2023 2023-07-12        Jamaica    Mexico         Mexico   \n",
       "41109  2023 2023-07-12        Jamaica    Mexico         Mexico   \n",
       "41110  2023 2023-07-12  United States    Panama         Panama   \n",
       "41111  2023 2023-07-12  United States    Panama  United States   \n",
       "41112  2023 2023-07-16         Mexico    Panama         Mexico   \n",
       "\n",
       "                 Scorer  Minute  Own Goal  Penalty  Home Score  Away Score  \\\n",
       "0       José Piendibene    44.0     False    False         0.0         4.0   \n",
       "1      Isabelino Gradín    55.0     False    False         0.0         4.0   \n",
       "2      Isabelino Gradín    70.0     False    False         0.0         4.0   \n",
       "3       José Piendibene    75.0     False    False         0.0         4.0   \n",
       "4         Alberto Ohaco     2.0     False    False         6.0         1.0   \n",
       "...                 ...     ...       ...      ...         ...         ...   \n",
       "41108       Luis Chávez    30.0     False    False         0.0         3.0   \n",
       "41109  Roberto Alvarado    90.0     False    False         0.0         3.0   \n",
       "41110     Iván Anderson    99.0     False    False         1.0         1.0   \n",
       "41111    Jesús Ferreira   105.0     False    False         1.0         1.0   \n",
       "41112  Santiago Giménez    88.0     False    False         1.0         0.0   \n",
       "\n",
       "       Shootout    Tournament          City        Country Neutral Venue  \\\n",
       "0         False  Copa América  Buenos Aires      Argentina          True   \n",
       "1         False  Copa América  Buenos Aires      Argentina          True   \n",
       "2         False  Copa América  Buenos Aires      Argentina          True   \n",
       "3         False  Copa América  Buenos Aires      Argentina          True   \n",
       "4         False  Copa América  Buenos Aires      Argentina         False   \n",
       "...         ...           ...           ...            ...           ...   \n",
       "41108     False      Gold Cup      Paradise  United States          True   \n",
       "41109     False      Gold Cup      Paradise  United States          True   \n",
       "41110      True      Gold Cup     San Diego  United States         False   \n",
       "41111      True      Gold Cup     San Diego  United States         False   \n",
       "41112     False      Gold Cup     Inglewood  United States          True   \n",
       "\n",
       "      Winning Team    Losing Team  \n",
       "0          Uruguay          Chile  \n",
       "1          Uruguay          Chile  \n",
       "2          Uruguay          Chile  \n",
       "3          Uruguay          Chile  \n",
       "4        Argentina          Chile  \n",
       "...            ...            ...  \n",
       "41108       Mexico        Jamaica  \n",
       "41109       Mexico        Jamaica  \n",
       "41110       Panama  United States  \n",
       "41111       Panama  United States  \n",
       "41112       Mexico         Panama  \n",
       "\n",
       "[40855 rows x 18 columns]"
      ]
     },
     "execution_count": 24,
     "metadata": {},
     "output_type": "execute_result"
    }
   ],
   "source": [
    "gs"
   ]
  },
  {
   "cell_type": "code",
   "execution_count": 25,
   "id": "17903013",
   "metadata": {},
   "outputs": [
    {
     "data": {
      "text/html": [
       "<div>\n",
       "<style scoped>\n",
       "    .dataframe tbody tr th:only-of-type {\n",
       "        vertical-align: middle;\n",
       "    }\n",
       "\n",
       "    .dataframe tbody tr th {\n",
       "        vertical-align: top;\n",
       "    }\n",
       "\n",
       "    .dataframe thead th {\n",
       "        text-align: right;\n",
       "    }\n",
       "</style>\n",
       "<table border=\"1\" class=\"dataframe\">\n",
       "  <thead>\n",
       "    <tr style=\"text-align: right;\">\n",
       "      <th></th>\n",
       "      <th>Year</th>\n",
       "      <th>Date</th>\n",
       "      <th>Home Team</th>\n",
       "      <th>Away Team</th>\n",
       "      <th>Home Score</th>\n",
       "      <th>Away Score</th>\n",
       "      <th>Shootout</th>\n",
       "      <th>Tournament</th>\n",
       "      <th>City</th>\n",
       "      <th>Country</th>\n",
       "      <th>Neutral Venue</th>\n",
       "      <th>Winning Team</th>\n",
       "      <th>Losing Team</th>\n",
       "    </tr>\n",
       "  </thead>\n",
       "  <tbody>\n",
       "    <tr>\n",
       "      <th>0</th>\n",
       "      <td>1872</td>\n",
       "      <td>1872-11-30</td>\n",
       "      <td>Scotland</td>\n",
       "      <td>England</td>\n",
       "      <td>0.0</td>\n",
       "      <td>0.0</td>\n",
       "      <td>False</td>\n",
       "      <td>Friendly</td>\n",
       "      <td>Glasgow</td>\n",
       "      <td>Scotland</td>\n",
       "      <td>False</td>\n",
       "      <td>Draw</td>\n",
       "      <td>Draw</td>\n",
       "    </tr>\n",
       "    <tr>\n",
       "      <th>1</th>\n",
       "      <td>1873</td>\n",
       "      <td>1873-03-08</td>\n",
       "      <td>England</td>\n",
       "      <td>Scotland</td>\n",
       "      <td>4.0</td>\n",
       "      <td>2.0</td>\n",
       "      <td>False</td>\n",
       "      <td>Friendly</td>\n",
       "      <td>London</td>\n",
       "      <td>England</td>\n",
       "      <td>False</td>\n",
       "      <td>England</td>\n",
       "      <td>Scotland</td>\n",
       "    </tr>\n",
       "    <tr>\n",
       "      <th>2</th>\n",
       "      <td>1874</td>\n",
       "      <td>1874-03-07</td>\n",
       "      <td>Scotland</td>\n",
       "      <td>England</td>\n",
       "      <td>2.0</td>\n",
       "      <td>1.0</td>\n",
       "      <td>False</td>\n",
       "      <td>Friendly</td>\n",
       "      <td>Glasgow</td>\n",
       "      <td>Scotland</td>\n",
       "      <td>False</td>\n",
       "      <td>Scotland</td>\n",
       "      <td>England</td>\n",
       "    </tr>\n",
       "    <tr>\n",
       "      <th>3</th>\n",
       "      <td>1875</td>\n",
       "      <td>1875-03-06</td>\n",
       "      <td>England</td>\n",
       "      <td>Scotland</td>\n",
       "      <td>2.0</td>\n",
       "      <td>2.0</td>\n",
       "      <td>False</td>\n",
       "      <td>Friendly</td>\n",
       "      <td>London</td>\n",
       "      <td>England</td>\n",
       "      <td>False</td>\n",
       "      <td>Draw</td>\n",
       "      <td>Draw</td>\n",
       "    </tr>\n",
       "    <tr>\n",
       "      <th>4</th>\n",
       "      <td>1876</td>\n",
       "      <td>1876-03-04</td>\n",
       "      <td>Scotland</td>\n",
       "      <td>England</td>\n",
       "      <td>3.0</td>\n",
       "      <td>0.0</td>\n",
       "      <td>False</td>\n",
       "      <td>Friendly</td>\n",
       "      <td>Glasgow</td>\n",
       "      <td>Scotland</td>\n",
       "      <td>False</td>\n",
       "      <td>Scotland</td>\n",
       "      <td>England</td>\n",
       "    </tr>\n",
       "    <tr>\n",
       "      <th>...</th>\n",
       "      <td>...</td>\n",
       "      <td>...</td>\n",
       "      <td>...</td>\n",
       "      <td>...</td>\n",
       "      <td>...</td>\n",
       "      <td>...</td>\n",
       "      <td>...</td>\n",
       "      <td>...</td>\n",
       "      <td>...</td>\n",
       "      <td>...</td>\n",
       "      <td>...</td>\n",
       "      <td>...</td>\n",
       "      <td>...</td>\n",
       "    </tr>\n",
       "    <tr>\n",
       "      <th>44757</th>\n",
       "      <td>2023</td>\n",
       "      <td>2023-07-09</td>\n",
       "      <td>United States</td>\n",
       "      <td>Canada</td>\n",
       "      <td>2.0</td>\n",
       "      <td>2.0</td>\n",
       "      <td>True</td>\n",
       "      <td>Gold Cup</td>\n",
       "      <td>Cincinnati</td>\n",
       "      <td>United States</td>\n",
       "      <td>False</td>\n",
       "      <td>United States</td>\n",
       "      <td>Canada</td>\n",
       "    </tr>\n",
       "    <tr>\n",
       "      <th>44758</th>\n",
       "      <td>2023</td>\n",
       "      <td>2023-07-12</td>\n",
       "      <td>United States</td>\n",
       "      <td>Panama</td>\n",
       "      <td>1.0</td>\n",
       "      <td>1.0</td>\n",
       "      <td>True</td>\n",
       "      <td>Gold Cup</td>\n",
       "      <td>San Diego</td>\n",
       "      <td>United States</td>\n",
       "      <td>False</td>\n",
       "      <td>Panama</td>\n",
       "      <td>United States</td>\n",
       "    </tr>\n",
       "    <tr>\n",
       "      <th>44759</th>\n",
       "      <td>2023</td>\n",
       "      <td>2023-07-12</td>\n",
       "      <td>Jamaica</td>\n",
       "      <td>Mexico</td>\n",
       "      <td>0.0</td>\n",
       "      <td>3.0</td>\n",
       "      <td>False</td>\n",
       "      <td>Gold Cup</td>\n",
       "      <td>Paradise</td>\n",
       "      <td>United States</td>\n",
       "      <td>True</td>\n",
       "      <td>Mexico</td>\n",
       "      <td>Jamaica</td>\n",
       "    </tr>\n",
       "    <tr>\n",
       "      <th>44760</th>\n",
       "      <td>2023</td>\n",
       "      <td>2023-07-16</td>\n",
       "      <td>Kernow</td>\n",
       "      <td>Sápmi</td>\n",
       "      <td>2.0</td>\n",
       "      <td>1.0</td>\n",
       "      <td>False</td>\n",
       "      <td>CONIFA World Football Cup qualification</td>\n",
       "      <td>Falmouth</td>\n",
       "      <td>England</td>\n",
       "      <td>False</td>\n",
       "      <td>Kernow</td>\n",
       "      <td>Sápmi</td>\n",
       "    </tr>\n",
       "    <tr>\n",
       "      <th>44761</th>\n",
       "      <td>2023</td>\n",
       "      <td>2023-07-16</td>\n",
       "      <td>Mexico</td>\n",
       "      <td>Panama</td>\n",
       "      <td>1.0</td>\n",
       "      <td>0.0</td>\n",
       "      <td>False</td>\n",
       "      <td>Gold Cup</td>\n",
       "      <td>Inglewood</td>\n",
       "      <td>United States</td>\n",
       "      <td>True</td>\n",
       "      <td>Mexico</td>\n",
       "      <td>Panama</td>\n",
       "    </tr>\n",
       "  </tbody>\n",
       "</table>\n",
       "<p>44762 rows × 13 columns</p>\n",
       "</div>"
      ],
      "text/plain": [
       "       Year       Date      Home Team Away Team  Home Score  Away Score  \\\n",
       "0      1872 1872-11-30       Scotland   England         0.0         0.0   \n",
       "1      1873 1873-03-08        England  Scotland         4.0         2.0   \n",
       "2      1874 1874-03-07       Scotland   England         2.0         1.0   \n",
       "3      1875 1875-03-06        England  Scotland         2.0         2.0   \n",
       "4      1876 1876-03-04       Scotland   England         3.0         0.0   \n",
       "...     ...        ...            ...       ...         ...         ...   \n",
       "44757  2023 2023-07-09  United States    Canada         2.0         2.0   \n",
       "44758  2023 2023-07-12  United States    Panama         1.0         1.0   \n",
       "44759  2023 2023-07-12        Jamaica    Mexico         0.0         3.0   \n",
       "44760  2023 2023-07-16         Kernow     Sápmi         2.0         1.0   \n",
       "44761  2023 2023-07-16         Mexico    Panama         1.0         0.0   \n",
       "\n",
       "       Shootout                               Tournament        City  \\\n",
       "0         False                                 Friendly     Glasgow   \n",
       "1         False                                 Friendly      London   \n",
       "2         False                                 Friendly     Glasgow   \n",
       "3         False                                 Friendly      London   \n",
       "4         False                                 Friendly     Glasgow   \n",
       "...         ...                                      ...         ...   \n",
       "44757      True                                 Gold Cup  Cincinnati   \n",
       "44758      True                                 Gold Cup   San Diego   \n",
       "44759     False                                 Gold Cup    Paradise   \n",
       "44760     False  CONIFA World Football Cup qualification    Falmouth   \n",
       "44761     False                                 Gold Cup   Inglewood   \n",
       "\n",
       "             Country Neutral Venue   Winning Team    Losing Team  \n",
       "0           Scotland         False           Draw           Draw  \n",
       "1            England         False        England       Scotland  \n",
       "2           Scotland         False       Scotland        England  \n",
       "3            England         False           Draw           Draw  \n",
       "4           Scotland         False       Scotland        England  \n",
       "...              ...           ...            ...            ...  \n",
       "44757  United States         False  United States         Canada  \n",
       "44758  United States         False         Panama  United States  \n",
       "44759  United States          True         Mexico        Jamaica  \n",
       "44760        England         False         Kernow          Sápmi  \n",
       "44761  United States          True         Mexico         Panama  \n",
       "\n",
       "[44762 rows x 13 columns]"
      ]
     },
     "execution_count": 25,
     "metadata": {},
     "output_type": "execute_result"
    }
   ],
   "source": [
    "rs"
   ]
  },
  {
   "cell_type": "markdown",
   "id": "6468cb9f",
   "metadata": {},
   "source": [
    "For the most part we cleaned and processed our data. We can now begin analyzing and answering the questions we had set out to answer."
   ]
  },
  {
   "cell_type": "markdown",
   "id": "0c1bc6fc",
   "metadata": {},
   "source": [
    "## _Exploratory Analysis and  Visualization_\n",
    "\n",
    "***We can define exploratory data analysis as the essential data investigation process before the formal analysis to spot patterns and anomalies, discover trends, and test hypotheses with summary statistics and visualizations. It gives an idea about the data we will be digging deep into while analyzing.***"
   ]
  },
  {
   "cell_type": "markdown",
   "id": "72dba56c",
   "metadata": {},
   "source": [
    "- **What is the highest scoring match in the history of football?**"
   ]
  },
  {
   "cell_type": "code",
   "execution_count": 26,
   "id": "26628d0a",
   "metadata": {},
   "outputs": [
    {
     "data": {
      "text/html": [
       "<div>\n",
       "<style scoped>\n",
       "    .dataframe tbody tr th:only-of-type {\n",
       "        vertical-align: middle;\n",
       "    }\n",
       "\n",
       "    .dataframe tbody tr th {\n",
       "        vertical-align: top;\n",
       "    }\n",
       "\n",
       "    .dataframe thead th {\n",
       "        text-align: right;\n",
       "    }\n",
       "</style>\n",
       "<table border=\"1\" class=\"dataframe\">\n",
       "  <thead>\n",
       "    <tr style=\"text-align: right;\">\n",
       "      <th></th>\n",
       "      <th>24160</th>\n",
       "    </tr>\n",
       "  </thead>\n",
       "  <tbody>\n",
       "    <tr>\n",
       "      <th>Year</th>\n",
       "      <td>2001</td>\n",
       "    </tr>\n",
       "    <tr>\n",
       "      <th>Date</th>\n",
       "      <td>2001-04-11 00:00:00</td>\n",
       "    </tr>\n",
       "    <tr>\n",
       "      <th>Home Team</th>\n",
       "      <td>Australia</td>\n",
       "    </tr>\n",
       "    <tr>\n",
       "      <th>Away Team</th>\n",
       "      <td>American Samoa</td>\n",
       "    </tr>\n",
       "    <tr>\n",
       "      <th>Home Score</th>\n",
       "      <td>31.0</td>\n",
       "    </tr>\n",
       "    <tr>\n",
       "      <th>Away Score</th>\n",
       "      <td>0.0</td>\n",
       "    </tr>\n",
       "    <tr>\n",
       "      <th>Shootout</th>\n",
       "      <td>False</td>\n",
       "    </tr>\n",
       "    <tr>\n",
       "      <th>Tournament</th>\n",
       "      <td>FIFA World Cup qualification</td>\n",
       "    </tr>\n",
       "    <tr>\n",
       "      <th>City</th>\n",
       "      <td>Coffs Harbour</td>\n",
       "    </tr>\n",
       "    <tr>\n",
       "      <th>Country</th>\n",
       "      <td>Australia</td>\n",
       "    </tr>\n",
       "    <tr>\n",
       "      <th>Neutral Venue</th>\n",
       "      <td>False</td>\n",
       "    </tr>\n",
       "    <tr>\n",
       "      <th>Winning Team</th>\n",
       "      <td>Australia</td>\n",
       "    </tr>\n",
       "    <tr>\n",
       "      <th>Losing Team</th>\n",
       "      <td>American Samoa</td>\n",
       "    </tr>\n",
       "  </tbody>\n",
       "</table>\n",
       "</div>"
      ],
      "text/plain": [
       "                                      24160\n",
       "Year                                   2001\n",
       "Date                    2001-04-11 00:00:00\n",
       "Home Team                         Australia\n",
       "Away Team                    American Samoa\n",
       "Home Score                             31.0\n",
       "Away Score                              0.0\n",
       "Shootout                              False\n",
       "Tournament     FIFA World Cup qualification\n",
       "City                          Coffs Harbour\n",
       "Country                           Australia\n",
       "Neutral Venue                         False\n",
       "Winning Team                      Australia\n",
       "Losing Team                  American Samoa"
      ]
     },
     "execution_count": 26,
     "metadata": {},
     "output_type": "execute_result"
    }
   ],
   "source": [
    "goals_scored = rs['Home Score'] + rs['Away Score']\n",
    "rs.iloc[goals_scored.idxmax()].to_frame()"
   ]
  },
  {
   "cell_type": "markdown",
   "id": "405a8168",
   "metadata": {},
   "source": [
    "The highest scoring match in the history of football was between Australia and Samoa which was played during a FIFA World Cup qualification game back in 2001. The final score was 31-0 in favour of Australia."
   ]
  },
  {
   "cell_type": "markdown",
   "id": "f5ebacfc",
   "metadata": {},
   "source": [
    "- **Which team has scored the most number of goals in a single match?**"
   ]
  },
  {
   "cell_type": "code",
   "execution_count": 27,
   "id": "e92005e9",
   "metadata": {},
   "outputs": [
    {
     "data": {
      "text/html": [
       "<div>\n",
       "<style scoped>\n",
       "    .dataframe tbody tr th:only-of-type {\n",
       "        vertical-align: middle;\n",
       "    }\n",
       "\n",
       "    .dataframe tbody tr th {\n",
       "        vertical-align: top;\n",
       "    }\n",
       "\n",
       "    .dataframe thead th {\n",
       "        text-align: right;\n",
       "    }\n",
       "</style>\n",
       "<table border=\"1\" class=\"dataframe\">\n",
       "  <thead>\n",
       "    <tr style=\"text-align: right;\">\n",
       "      <th></th>\n",
       "      <th>24160</th>\n",
       "    </tr>\n",
       "  </thead>\n",
       "  <tbody>\n",
       "    <tr>\n",
       "      <th>Year</th>\n",
       "      <td>2001</td>\n",
       "    </tr>\n",
       "    <tr>\n",
       "      <th>Date</th>\n",
       "      <td>2001-04-11 00:00:00</td>\n",
       "    </tr>\n",
       "    <tr>\n",
       "      <th>Home Team</th>\n",
       "      <td>Australia</td>\n",
       "    </tr>\n",
       "    <tr>\n",
       "      <th>Away Team</th>\n",
       "      <td>American Samoa</td>\n",
       "    </tr>\n",
       "    <tr>\n",
       "      <th>Home Score</th>\n",
       "      <td>31.0</td>\n",
       "    </tr>\n",
       "    <tr>\n",
       "      <th>Away Score</th>\n",
       "      <td>0.0</td>\n",
       "    </tr>\n",
       "    <tr>\n",
       "      <th>Shootout</th>\n",
       "      <td>False</td>\n",
       "    </tr>\n",
       "    <tr>\n",
       "      <th>Tournament</th>\n",
       "      <td>FIFA World Cup qualification</td>\n",
       "    </tr>\n",
       "    <tr>\n",
       "      <th>City</th>\n",
       "      <td>Coffs Harbour</td>\n",
       "    </tr>\n",
       "    <tr>\n",
       "      <th>Country</th>\n",
       "      <td>Australia</td>\n",
       "    </tr>\n",
       "    <tr>\n",
       "      <th>Neutral Venue</th>\n",
       "      <td>False</td>\n",
       "    </tr>\n",
       "    <tr>\n",
       "      <th>Winning Team</th>\n",
       "      <td>Australia</td>\n",
       "    </tr>\n",
       "    <tr>\n",
       "      <th>Losing Team</th>\n",
       "      <td>American Samoa</td>\n",
       "    </tr>\n",
       "  </tbody>\n",
       "</table>\n",
       "</div>"
      ],
      "text/plain": [
       "                                      24160\n",
       "Year                                   2001\n",
       "Date                    2001-04-11 00:00:00\n",
       "Home Team                         Australia\n",
       "Away Team                    American Samoa\n",
       "Home Score                             31.0\n",
       "Away Score                              0.0\n",
       "Shootout                              False\n",
       "Tournament     FIFA World Cup qualification\n",
       "City                          Coffs Harbour\n",
       "Country                           Australia\n",
       "Neutral Venue                         False\n",
       "Winning Team                      Australia\n",
       "Losing Team                  American Samoa"
      ]
     },
     "execution_count": 27,
     "metadata": {},
     "output_type": "execute_result"
    }
   ],
   "source": [
    "homescore_max = rs['Home Score'].max()\n",
    "awayscore_max = rs['Away Score'].max()\n",
    "\n",
    "if homescore_max > awayscore_max :\n",
    "    score_max_index = rs['Home Score'].idxmax()\n",
    "else :\n",
    "    score_max_index = rs['Away Score'].idxmax()\n",
    "    \n",
    "rs.iloc[score_max_index].to_frame()"
   ]
  },
  {
   "cell_type": "markdown",
   "id": "6aa33f94",
   "metadata": {},
   "source": [
    "The most number of goals scored by a single team in a one-off match was Australia where they thrashed Samoa 31-0 in FIFA World Cup qualification game. This also happend to be the highest scoring game in the history of football and both the records remains untouched till date."
   ]
  },
  {
   "cell_type": "markdown",
   "id": "bd423fa4",
   "metadata": {},
   "source": [
    "**Now let us analyze some trends from the following tournaments :**\n",
    "- ***FIFA World Cup***\n",
    "- ***Copa América***\n",
    "- ***African Cup of Nations***\n",
    "- ***UEFA Euro***\n",
    "- ***AFC Asian Cup***"
   ]
  },
  {
   "cell_type": "markdown",
   "id": "15a6ca27",
   "metadata": {},
   "source": [
    "First, we create seperates dataframes for each tournament"
   ]
  },
  {
   "cell_type": "code",
   "execution_count": 28,
   "id": "68456e54",
   "metadata": {},
   "outputs": [],
   "source": [
    "#creating dataframes for major tournaments\n",
    "\n",
    "world_cup = rs.loc[rs['Tournament'] == 'FIFA World Cup']\n",
    "copa_america = rs.loc[rs['Tournament'] == 'Copa América']\n",
    "afcon = rs.loc[rs['Tournament'] == 'African Cup of Nations']\n",
    "euros = rs.loc[rs['Tournament'] == 'UEFA Euro']\n",
    "asian_cup = rs.loc[rs['Tournament'] == 'AFC Asian Cup']"
   ]
  },
  {
   "cell_type": "markdown",
   "id": "5be6b468",
   "metadata": {},
   "source": [
    "- **How have the number of goals scored across various editions varied?**"
   ]
  },
  {
   "cell_type": "code",
   "execution_count": 29,
   "id": "3e56c905",
   "metadata": {},
   "outputs": [],
   "source": [
    "# grouping dataframes with respect to the year and goals scored\n",
    "\n",
    "world_cup_goals = world_cup.groupby('Year')[['Home Score', 'Away Score']].sum()\n",
    "copa_america_goals = copa_america.groupby('Year')[['Home Score', 'Away Score']].sum()\n",
    "afcon_goals = afcon.groupby('Year')[['Home Score', 'Away Score']].sum()\n",
    "euros_goals = euros.groupby('Year')[['Home Score', 'Away Score']].sum()\n",
    "asian_cup_goals = asian_cup.groupby('Year')[['Home Score', 'Away Score']].sum()\n",
    "\n",
    "world_cup_goals['Goals Scored'] = world_cup_goals['Home Score'] + world_cup_goals['Away Score']\n",
    "copa_america_goals['Goals Scored'] = copa_america_goals['Home Score'] + copa_america_goals['Away Score']\n",
    "afcon_goals['Goals Scored'] = afcon_goals['Home Score'] + afcon_goals['Away Score']\n",
    "euros_goals['Goals Scored'] = euros_goals['Home Score'] + euros_goals['Away Score']\n",
    "asian_cup_goals['Goals Scored'] = asian_cup_goals['Home Score'] + asian_cup_goals['Away Score']"
   ]
  },
  {
   "cell_type": "code",
   "execution_count": 30,
   "id": "838e9c6f",
   "metadata": {},
   "outputs": [
    {
     "data": {
      "application/vnd.plotly.v1+json": {
       "config": {
        "linkText": "Export to plot.ly",
        "plotlyServerURL": "https://plot.ly",
        "showLink": false
       },
       "data": [
        {
         "mode": "lines+markers",
         "name": "FIFA World Cup",
         "type": "scatter",
         "x": [
          1930,
          1934,
          1938,
          1950,
          1954,
          1958,
          1962,
          1966,
          1970,
          1974,
          1978,
          1982,
          1986,
          1990,
          1994,
          1998,
          2002,
          2006,
          2010,
          2014,
          2018,
          2022
         ],
         "y": [
          70,
          70,
          84,
          88,
          140,
          126,
          89,
          89,
          95,
          97,
          102,
          146,
          132,
          115,
          141,
          171,
          161,
          147,
          145,
          171,
          169,
          172
         ]
        },
        {
         "mode": "lines+markers",
         "name": "Copa América",
         "type": "scatter",
         "x": [
          1916,
          1917,
          1919,
          1920,
          1921,
          1922,
          1923,
          1924,
          1925,
          1926,
          1927,
          1929,
          1935,
          1936,
          1937,
          1939,
          1941,
          1942,
          1945,
          1946,
          1947,
          1949,
          1953,
          1955,
          1956,
          1957,
          1959,
          1963,
          1966,
          1967,
          1975,
          1979,
          1983,
          1987,
          1989,
          1991,
          1993,
          1995,
          1997,
          1999,
          2001,
          2004,
          2007,
          2011,
          2015,
          2016,
          2019,
          2021
         ],
         "y": [
          18,
          21,
          27,
          16,
          14,
          22,
          18,
          15,
          26,
          55,
          37,
          23,
          18,
          8,
          61,
          47,
          32,
          81,
          89,
          61,
          102,
          135,
          67,
          73,
          38,
          101,
          126,
          91,
          15,
          49,
          79,
          63,
          55,
          33,
          55,
          73,
          64,
          69,
          67,
          74,
          60,
          78,
          86,
          54,
          59,
          91,
          60,
          65
         ]
        },
        {
         "mode": "lines+markers",
         "name": "African Cup of Nations",
         "type": "scatter",
         "x": [
          1957,
          1959,
          1962,
          1963,
          1965,
          1968,
          1970,
          1972,
          1974,
          1976,
          1978,
          1980,
          1982,
          1984,
          1986,
          1988,
          1990,
          1992,
          1994,
          1996,
          1998,
          2000,
          2002,
          2004,
          2006,
          2008,
          2010,
          2012,
          2013,
          2015,
          2017,
          2019,
          2022
         ],
         "y": [
          7,
          8,
          18,
          33,
          31,
          52,
          51,
          53,
          54,
          54,
          36,
          33,
          32,
          39,
          31,
          23,
          30,
          34,
          44,
          78,
          93,
          73,
          48,
          88,
          73,
          99,
          71,
          76,
          69,
          68,
          66,
          102,
          100
         ]
        },
        {
         "mode": "lines+markers",
         "name": "UEFA Euro",
         "type": "scatter",
         "x": [
          1960,
          1964,
          1968,
          1972,
          1976,
          1980,
          1984,
          1988,
          1992,
          1996,
          2000,
          2004,
          2008,
          2012,
          2016,
          2021
         ],
         "y": [
          17,
          13,
          7,
          10,
          19,
          27,
          41,
          34,
          32,
          64,
          85,
          77,
          77,
          76,
          108,
          142
         ]
        },
        {
         "mode": "lines+markers",
         "name": "AFC Asian Cup",
         "type": "scatter",
         "x": [
          1956,
          1960,
          1964,
          1968,
          1972,
          1976,
          1980,
          1984,
          1988,
          1992,
          1996,
          2000,
          2004,
          2007,
          2011,
          2015,
          2019
         ],
         "y": [
          27,
          19,
          13,
          32,
          38,
          25,
          76,
          44,
          40,
          31,
          80,
          77,
          96,
          84,
          90,
          85,
          130
         ]
        }
       ],
       "layout": {
        "template": {
         "data": {
          "bar": [
           {
            "error_x": {
             "color": "#2a3f5f"
            },
            "error_y": {
             "color": "#2a3f5f"
            },
            "marker": {
             "line": {
              "color": "#E5ECF6",
              "width": 0.5
             },
             "pattern": {
              "fillmode": "overlay",
              "size": 10,
              "solidity": 0.2
             }
            },
            "type": "bar"
           }
          ],
          "barpolar": [
           {
            "marker": {
             "line": {
              "color": "#E5ECF6",
              "width": 0.5
             },
             "pattern": {
              "fillmode": "overlay",
              "size": 10,
              "solidity": 0.2
             }
            },
            "type": "barpolar"
           }
          ],
          "carpet": [
           {
            "aaxis": {
             "endlinecolor": "#2a3f5f",
             "gridcolor": "white",
             "linecolor": "white",
             "minorgridcolor": "white",
             "startlinecolor": "#2a3f5f"
            },
            "baxis": {
             "endlinecolor": "#2a3f5f",
             "gridcolor": "white",
             "linecolor": "white",
             "minorgridcolor": "white",
             "startlinecolor": "#2a3f5f"
            },
            "type": "carpet"
           }
          ],
          "choropleth": [
           {
            "colorbar": {
             "outlinewidth": 0,
             "ticks": ""
            },
            "type": "choropleth"
           }
          ],
          "contour": [
           {
            "colorbar": {
             "outlinewidth": 0,
             "ticks": ""
            },
            "colorscale": [
             [
              0,
              "#0d0887"
             ],
             [
              0.1111111111111111,
              "#46039f"
             ],
             [
              0.2222222222222222,
              "#7201a8"
             ],
             [
              0.3333333333333333,
              "#9c179e"
             ],
             [
              0.4444444444444444,
              "#bd3786"
             ],
             [
              0.5555555555555556,
              "#d8576b"
             ],
             [
              0.6666666666666666,
              "#ed7953"
             ],
             [
              0.7777777777777778,
              "#fb9f3a"
             ],
             [
              0.8888888888888888,
              "#fdca26"
             ],
             [
              1,
              "#f0f921"
             ]
            ],
            "type": "contour"
           }
          ],
          "contourcarpet": [
           {
            "colorbar": {
             "outlinewidth": 0,
             "ticks": ""
            },
            "type": "contourcarpet"
           }
          ],
          "heatmap": [
           {
            "colorbar": {
             "outlinewidth": 0,
             "ticks": ""
            },
            "colorscale": [
             [
              0,
              "#0d0887"
             ],
             [
              0.1111111111111111,
              "#46039f"
             ],
             [
              0.2222222222222222,
              "#7201a8"
             ],
             [
              0.3333333333333333,
              "#9c179e"
             ],
             [
              0.4444444444444444,
              "#bd3786"
             ],
             [
              0.5555555555555556,
              "#d8576b"
             ],
             [
              0.6666666666666666,
              "#ed7953"
             ],
             [
              0.7777777777777778,
              "#fb9f3a"
             ],
             [
              0.8888888888888888,
              "#fdca26"
             ],
             [
              1,
              "#f0f921"
             ]
            ],
            "type": "heatmap"
           }
          ],
          "heatmapgl": [
           {
            "colorbar": {
             "outlinewidth": 0,
             "ticks": ""
            },
            "colorscale": [
             [
              0,
              "#0d0887"
             ],
             [
              0.1111111111111111,
              "#46039f"
             ],
             [
              0.2222222222222222,
              "#7201a8"
             ],
             [
              0.3333333333333333,
              "#9c179e"
             ],
             [
              0.4444444444444444,
              "#bd3786"
             ],
             [
              0.5555555555555556,
              "#d8576b"
             ],
             [
              0.6666666666666666,
              "#ed7953"
             ],
             [
              0.7777777777777778,
              "#fb9f3a"
             ],
             [
              0.8888888888888888,
              "#fdca26"
             ],
             [
              1,
              "#f0f921"
             ]
            ],
            "type": "heatmapgl"
           }
          ],
          "histogram": [
           {
            "marker": {
             "pattern": {
              "fillmode": "overlay",
              "size": 10,
              "solidity": 0.2
             }
            },
            "type": "histogram"
           }
          ],
          "histogram2d": [
           {
            "colorbar": {
             "outlinewidth": 0,
             "ticks": ""
            },
            "colorscale": [
             [
              0,
              "#0d0887"
             ],
             [
              0.1111111111111111,
              "#46039f"
             ],
             [
              0.2222222222222222,
              "#7201a8"
             ],
             [
              0.3333333333333333,
              "#9c179e"
             ],
             [
              0.4444444444444444,
              "#bd3786"
             ],
             [
              0.5555555555555556,
              "#d8576b"
             ],
             [
              0.6666666666666666,
              "#ed7953"
             ],
             [
              0.7777777777777778,
              "#fb9f3a"
             ],
             [
              0.8888888888888888,
              "#fdca26"
             ],
             [
              1,
              "#f0f921"
             ]
            ],
            "type": "histogram2d"
           }
          ],
          "histogram2dcontour": [
           {
            "colorbar": {
             "outlinewidth": 0,
             "ticks": ""
            },
            "colorscale": [
             [
              0,
              "#0d0887"
             ],
             [
              0.1111111111111111,
              "#46039f"
             ],
             [
              0.2222222222222222,
              "#7201a8"
             ],
             [
              0.3333333333333333,
              "#9c179e"
             ],
             [
              0.4444444444444444,
              "#bd3786"
             ],
             [
              0.5555555555555556,
              "#d8576b"
             ],
             [
              0.6666666666666666,
              "#ed7953"
             ],
             [
              0.7777777777777778,
              "#fb9f3a"
             ],
             [
              0.8888888888888888,
              "#fdca26"
             ],
             [
              1,
              "#f0f921"
             ]
            ],
            "type": "histogram2dcontour"
           }
          ],
          "mesh3d": [
           {
            "colorbar": {
             "outlinewidth": 0,
             "ticks": ""
            },
            "type": "mesh3d"
           }
          ],
          "parcoords": [
           {
            "line": {
             "colorbar": {
              "outlinewidth": 0,
              "ticks": ""
             }
            },
            "type": "parcoords"
           }
          ],
          "pie": [
           {
            "automargin": true,
            "type": "pie"
           }
          ],
          "scatter": [
           {
            "fillpattern": {
             "fillmode": "overlay",
             "size": 10,
             "solidity": 0.2
            },
            "type": "scatter"
           }
          ],
          "scatter3d": [
           {
            "line": {
             "colorbar": {
              "outlinewidth": 0,
              "ticks": ""
             }
            },
            "marker": {
             "colorbar": {
              "outlinewidth": 0,
              "ticks": ""
             }
            },
            "type": "scatter3d"
           }
          ],
          "scattercarpet": [
           {
            "marker": {
             "colorbar": {
              "outlinewidth": 0,
              "ticks": ""
             }
            },
            "type": "scattercarpet"
           }
          ],
          "scattergeo": [
           {
            "marker": {
             "colorbar": {
              "outlinewidth": 0,
              "ticks": ""
             }
            },
            "type": "scattergeo"
           }
          ],
          "scattergl": [
           {
            "marker": {
             "colorbar": {
              "outlinewidth": 0,
              "ticks": ""
             }
            },
            "type": "scattergl"
           }
          ],
          "scattermapbox": [
           {
            "marker": {
             "colorbar": {
              "outlinewidth": 0,
              "ticks": ""
             }
            },
            "type": "scattermapbox"
           }
          ],
          "scatterpolar": [
           {
            "marker": {
             "colorbar": {
              "outlinewidth": 0,
              "ticks": ""
             }
            },
            "type": "scatterpolar"
           }
          ],
          "scatterpolargl": [
           {
            "marker": {
             "colorbar": {
              "outlinewidth": 0,
              "ticks": ""
             }
            },
            "type": "scatterpolargl"
           }
          ],
          "scatterternary": [
           {
            "marker": {
             "colorbar": {
              "outlinewidth": 0,
              "ticks": ""
             }
            },
            "type": "scatterternary"
           }
          ],
          "surface": [
           {
            "colorbar": {
             "outlinewidth": 0,
             "ticks": ""
            },
            "colorscale": [
             [
              0,
              "#0d0887"
             ],
             [
              0.1111111111111111,
              "#46039f"
             ],
             [
              0.2222222222222222,
              "#7201a8"
             ],
             [
              0.3333333333333333,
              "#9c179e"
             ],
             [
              0.4444444444444444,
              "#bd3786"
             ],
             [
              0.5555555555555556,
              "#d8576b"
             ],
             [
              0.6666666666666666,
              "#ed7953"
             ],
             [
              0.7777777777777778,
              "#fb9f3a"
             ],
             [
              0.8888888888888888,
              "#fdca26"
             ],
             [
              1,
              "#f0f921"
             ]
            ],
            "type": "surface"
           }
          ],
          "table": [
           {
            "cells": {
             "fill": {
              "color": "#EBF0F8"
             },
             "line": {
              "color": "white"
             }
            },
            "header": {
             "fill": {
              "color": "#C8D4E3"
             },
             "line": {
              "color": "white"
             }
            },
            "type": "table"
           }
          ]
         },
         "layout": {
          "annotationdefaults": {
           "arrowcolor": "#2a3f5f",
           "arrowhead": 0,
           "arrowwidth": 1
          },
          "autotypenumbers": "strict",
          "coloraxis": {
           "colorbar": {
            "outlinewidth": 0,
            "ticks": ""
           }
          },
          "colorscale": {
           "diverging": [
            [
             0,
             "#8e0152"
            ],
            [
             0.1,
             "#c51b7d"
            ],
            [
             0.2,
             "#de77ae"
            ],
            [
             0.3,
             "#f1b6da"
            ],
            [
             0.4,
             "#fde0ef"
            ],
            [
             0.5,
             "#f7f7f7"
            ],
            [
             0.6,
             "#e6f5d0"
            ],
            [
             0.7,
             "#b8e186"
            ],
            [
             0.8,
             "#7fbc41"
            ],
            [
             0.9,
             "#4d9221"
            ],
            [
             1,
             "#276419"
            ]
           ],
           "sequential": [
            [
             0,
             "#0d0887"
            ],
            [
             0.1111111111111111,
             "#46039f"
            ],
            [
             0.2222222222222222,
             "#7201a8"
            ],
            [
             0.3333333333333333,
             "#9c179e"
            ],
            [
             0.4444444444444444,
             "#bd3786"
            ],
            [
             0.5555555555555556,
             "#d8576b"
            ],
            [
             0.6666666666666666,
             "#ed7953"
            ],
            [
             0.7777777777777778,
             "#fb9f3a"
            ],
            [
             0.8888888888888888,
             "#fdca26"
            ],
            [
             1,
             "#f0f921"
            ]
           ],
           "sequentialminus": [
            [
             0,
             "#0d0887"
            ],
            [
             0.1111111111111111,
             "#46039f"
            ],
            [
             0.2222222222222222,
             "#7201a8"
            ],
            [
             0.3333333333333333,
             "#9c179e"
            ],
            [
             0.4444444444444444,
             "#bd3786"
            ],
            [
             0.5555555555555556,
             "#d8576b"
            ],
            [
             0.6666666666666666,
             "#ed7953"
            ],
            [
             0.7777777777777778,
             "#fb9f3a"
            ],
            [
             0.8888888888888888,
             "#fdca26"
            ],
            [
             1,
             "#f0f921"
            ]
           ]
          },
          "colorway": [
           "#636efa",
           "#EF553B",
           "#00cc96",
           "#ab63fa",
           "#FFA15A",
           "#19d3f3",
           "#FF6692",
           "#B6E880",
           "#FF97FF",
           "#FECB52"
          ],
          "font": {
           "color": "#2a3f5f"
          },
          "geo": {
           "bgcolor": "white",
           "lakecolor": "white",
           "landcolor": "#E5ECF6",
           "showlakes": true,
           "showland": true,
           "subunitcolor": "white"
          },
          "hoverlabel": {
           "align": "left"
          },
          "hovermode": "closest",
          "mapbox": {
           "style": "light"
          },
          "paper_bgcolor": "white",
          "plot_bgcolor": "#E5ECF6",
          "polar": {
           "angularaxis": {
            "gridcolor": "white",
            "linecolor": "white",
            "ticks": ""
           },
           "bgcolor": "#E5ECF6",
           "radialaxis": {
            "gridcolor": "white",
            "linecolor": "white",
            "ticks": ""
           }
          },
          "scene": {
           "xaxis": {
            "backgroundcolor": "#E5ECF6",
            "gridcolor": "white",
            "gridwidth": 2,
            "linecolor": "white",
            "showbackground": true,
            "ticks": "",
            "zerolinecolor": "white"
           },
           "yaxis": {
            "backgroundcolor": "#E5ECF6",
            "gridcolor": "white",
            "gridwidth": 2,
            "linecolor": "white",
            "showbackground": true,
            "ticks": "",
            "zerolinecolor": "white"
           },
           "zaxis": {
            "backgroundcolor": "#E5ECF6",
            "gridcolor": "white",
            "gridwidth": 2,
            "linecolor": "white",
            "showbackground": true,
            "ticks": "",
            "zerolinecolor": "white"
           }
          },
          "shapedefaults": {
           "line": {
            "color": "#2a3f5f"
           }
          },
          "ternary": {
           "aaxis": {
            "gridcolor": "white",
            "linecolor": "white",
            "ticks": ""
           },
           "baxis": {
            "gridcolor": "white",
            "linecolor": "white",
            "ticks": ""
           },
           "bgcolor": "#E5ECF6",
           "caxis": {
            "gridcolor": "white",
            "linecolor": "white",
            "ticks": ""
           }
          },
          "title": {
           "x": 0.05
          },
          "xaxis": {
           "automargin": true,
           "gridcolor": "white",
           "linecolor": "white",
           "ticks": "",
           "title": {
            "standoff": 15
           },
           "zerolinecolor": "white",
           "zerolinewidth": 2
          },
          "yaxis": {
           "automargin": true,
           "gridcolor": "white",
           "linecolor": "white",
           "ticks": "",
           "title": {
            "standoff": 15
           },
           "zerolinecolor": "white",
           "zerolinewidth": 2
          }
         }
        },
        "title": {
         "text": "Goals Scored in Different Tournaments"
        },
        "xaxis": {
         "title": {
          "text": "Time"
         }
        },
        "yaxis": {
         "title": {
          "text": "Goals Scored"
         }
        }
       }
      }
     },
     "metadata": {},
     "output_type": "display_data"
    }
   ],
   "source": [
    "import plotly.graph_objs as go\n",
    "import plotly.offline as pyo\n",
    "\n",
    "# Create a single plot\n",
    "fig = go.Figure()\n",
    "\n",
    "# Add line plots to the single plot\n",
    "fig.add_trace(go.Scatter(x=world_cup_goals.index, y=world_cup_goals['Goals Scored'], mode='lines+markers', name='FIFA World Cup'))\n",
    "fig.add_trace(go.Scatter(x=copa_america_goals.index, y=copa_america_goals['Goals Scored'], mode='lines+markers', name='Copa América'))\n",
    "fig.add_trace(go.Scatter(x=afcon_goals.index, y=afcon_goals['Goals Scored'], mode='lines+markers', name='African Cup of Nations'))\n",
    "fig.add_trace(go.Scatter(x=euros_goals.index, y=euros_goals['Goals Scored'], mode='lines+markers', name='UEFA Euro'))\n",
    "fig.add_trace(go.Scatter(x=asian_cup_goals.index, y=asian_cup_goals['Goals Scored'], mode='lines+markers', name='AFC Asian Cup'))\n",
    "\n",
    "# Update layout settings\n",
    "fig.update_layout(title='Goals Scored in Different Tournaments', xaxis_title='Time', yaxis_title='Goals Scored')\n",
    "\n",
    "# Show the plot\n",
    "pyo.iplot(fig)"
   ]
  },
  {
   "cell_type": "code",
   "execution_count": 31,
   "id": "9876f6ff",
   "metadata": {
    "scrolled": false
   },
   "outputs": [
    {
     "data": {
      "image/png": "[encoded data removed]",
      "text/plain": [
       "<Figure size 1080x720 with 4 Axes>"
      ]
     },
     "metadata": {},
     "output_type": "display_data"
    }
   ],
   "source": [
    "fig_goals, axs = plt.subplots(2,2, figsize=(15,10))\n",
    "\n",
    "sns.lineplot(data = world_cup_goals, x = world_cup_goals.index, y = 'Goals Scored', ax = axs[0,0], marker='o')\n",
    "sns.lineplot(data = copa_america_goals, x = copa_america_goals.index, y = 'Goals Scored', ax = axs[0,1], marker='o')\n",
    "sns.lineplot(data = afcon_goals, x = afcon_goals.index, y = 'Goals Scored', ax = axs[1,0], marker='o')\n",
    "sns.lineplot(data = euros_goals, x = euros_goals.index, y = 'Goals Scored', ax = axs[1,1], marker='o')\n",
    "\n",
    "axs[0,0].set_xlabel('Year', fontsize = 10)\n",
    "axs[0,1].set_xlabel('Year', fontsize = 10)\n",
    "axs[1,0].set_xlabel('Year', fontsize = 10)\n",
    "axs[1,1].set_xlabel('Year', fontsize = 10)\n",
    "\n",
    "axs[0,0].set_ylabel('Number of goals scored', fontsize = 10)\n",
    "axs[0,1].set_ylabel('Number of goals scored', fontsize = 10)\n",
    "axs[1,0].set_ylabel('Number of goals scored', fontsize = 10)\n",
    "axs[1,1].set_ylabel('Number of goals scored', fontsize = 10)\n",
    "\n",
    "axs[0,0].set_title('FIFA World Cup', fontsize = 13)\n",
    "axs[0,1].set_title('Copa América', fontsize = 13)\n",
    "axs[1,0].set_title('African Cup of Nations', fontsize = 13)\n",
    "axs[1,1].set_title('UEFA Euro', fontsize = 13)\n",
    "\n",
    "plt.suptitle('Goals scored in each edition', fontweight ='bold', fontsize = 15)\n",
    "\n",
    "fig_goals.tight_layout(pad = 4)\n",
    "\n",
    "# setting face color/bg of the plot to white\n",
    "fig_goals.set_facecolor('white')\n",
    "\n",
    "#fig_goals.savefig('Goals scored in each edition.png')"
   ]
  },
  {
   "cell_type": "markdown",
   "id": "3f530e59",
   "metadata": {},
   "source": [
    "We can see that there isn't a continuous growth/decline in the number of goals scored across different editions. This is mainly due to the evolution of formations over time and different styles of play being adopted."
   ]
  },
  {
   "cell_type": "markdown",
   "id": "94fa2e3f",
   "metadata": {},
   "source": [
    "- **How many teams have won the respective tournaments?**"
   ]
  },
  {
   "cell_type": "code",
   "execution_count": 32,
   "id": "f3f5e124",
   "metadata": {},
   "outputs": [],
   "source": [
    "# creating dataframes for finals of the respective tournaments\n",
    "\n",
    "world_cup_groupby = world_cup.groupby('Year')\n",
    "world_cup_final = world_cup_groupby.last()\n",
    "\n",
    "copa_america_groupby = copa_america.groupby('Year')\n",
    "copa_america_final = copa_america_groupby.last()\n",
    "\n",
    "afcon_groupby = afcon.groupby('Year')\n",
    "afcon_final = afcon_groupby.last()\n",
    "\n",
    "euros_groupby = euros.groupby('Year')\n",
    "euros_final = euros_groupby.last()\n",
    "\n",
    "asian_cup_groupby = asian_cup.groupby('Year')\n",
    "asian_cup_final = asian_cup_groupby.last()"
   ]
  },
  {
   "cell_type": "code",
   "execution_count": 33,
   "id": "d2e12d40",
   "metadata": {},
   "outputs": [],
   "source": [
    "# resolving certain faults in the Finals data\n",
    "\n",
    "indexNames = copa_america_final[copa_america_final['Winning Team'] == 'Draw'].index\n",
    "copa_america_final.drop(indexNames, inplace = True)"
   ]
  },
  {
   "cell_type": "code",
   "execution_count": 34,
   "id": "971d7211",
   "metadata": {},
   "outputs": [],
   "source": [
    "# creating dataframes to identify the winners and how many times they have won the tournament\n",
    "\n",
    "\"\"\"\n",
    "\n",
    "world_cup_champions = world_cup_final['Winning Team'].value_counts().sort_index()\n",
    "copa_america_champions = copa_america_final['Winning Team'].value_counts().sort_index()\n",
    "afcon_champions = afcon_final['Winning Team'].value_counts().sort_index()\n",
    "euros_champions = euros_final['Winning Team'].value_counts().sort_index()\n",
    "\n",
    "\n",
    "world_cup_champions_count = world_cup_champions.array\n",
    "world_cup_champions_teamnames = world_cup_champions.index.array\n",
    "\n",
    "copa_america_champions_count = copa_america_champions.array\n",
    "copa_america_champions_teamnames = copa_america_champions.index.array\n",
    "\n",
    "afcon_champions_count = afcon_champions.array\n",
    "afcon_champions_teamnames = afcon_champions.index.array\n",
    "\n",
    "euros_champions_count = euros_champions.array\n",
    "euros_champions_teamnames = euros_champions.index.array\n",
    "\n",
    "\"\"\"\n",
    "\n",
    "world_cup_champions = pd.DataFrame(world_cup_final['Winning Team'].value_counts().sort_index())\n",
    "copa_america_champions = pd.DataFrame(copa_america_final['Winning Team'].value_counts().sort_index())\n",
    "afcon_champions = pd.DataFrame(afcon_final['Winning Team'].value_counts().sort_index())\n",
    "euros_champions = pd.DataFrame(euros_final['Winning Team'].value_counts().sort_index())\n",
    "asian_cup_champions = pd.DataFrame(asian_cup_final['Winning Team'].value_counts().sort_index())\n",
    "\n",
    "# Resetting index\n",
    "world_cup_champions.reset_index(drop=False, inplace=True)\n",
    "copa_america_champions.reset_index(drop=False, inplace=True)\n",
    "afcon_champions.reset_index(drop=False, inplace=True)\n",
    "euros_champions.reset_index(drop=False, inplace=True)\n",
    "asian_cup_champions.reset_index(drop=False, inplace=True)\n",
    "\n",
    "# Renaming columns\n",
    "world_cup_champions.rename(columns={'Winning Team': 'Winner', 'count': 'Trophies won overall'}, inplace=True)\n",
    "copa_america_champions.rename(columns={'Winning Team': 'Winner', 'count': 'Trophies won overall'}, inplace=True)\n",
    "afcon_champions.rename(columns={'Winning Team': 'Winner', 'count': 'Trophies won overall'}, inplace=True)\n",
    "euros_champions.rename(columns={'Winning Team': 'Winner', 'count': 'Trophies won overall'}, inplace=True)\n",
    "asian_cup_champions.rename(columns={'Winning Team': 'Winner', 'count': 'Trophies won overall'}, inplace=True)"
   ]
  },
  {
   "cell_type": "markdown",
   "id": "d55804f1",
   "metadata": {},
   "source": [
    "Below is an example of the world_cup_champions dataframe that we have made for creating visaulizations"
   ]
  },
  {
   "cell_type": "code",
   "execution_count": 35,
   "id": "bc621cb8",
   "metadata": {},
   "outputs": [
    {
     "data": {
      "application/vnd.plotly.v1+json": {
       "config": {
        "linkText": "Export to plot.ly",
        "plotlyServerURL": "https://plot.ly",
        "showLink": false
       },
       "data": [
        {
         "name": "FIFA World Cup",
         "orientation": "h",
         "type": "bar",
         "x": [
          5,
          4,
          4,
          3,
          2,
          1,
          1,
          1,
          1
         ],
         "y": [
          "Brazil",
          "Germany",
          "Italy",
          "Argentina",
          "France",
          "England",
          "Spain",
          "Sweden",
          "Uruguay"
         ]
        },
        {
         "name": "Copa América",
         "orientation": "h",
         "type": "bar",
         "x": [
          10,
          10,
          9,
          4,
          4,
          2,
          2,
          1
         ],
         "y": [
          "Brazil",
          "Uruguay",
          "Argentina",
          "Chile",
          "Peru",
          "Ecuador",
          "Paraguay",
          "Colombia"
         ]
        },
        {
         "name": "African Cup of Nations",
         "orientation": "h",
         "type": "bar",
         "x": [
          7,
          5,
          4,
          3,
          3,
          2,
          2,
          1,
          1,
          1,
          1,
          1,
          1,
          1
         ],
         "y": [
          "Egypt",
          "Cameroon",
          "Ghana",
          "Ivory Coast",
          "Nigeria",
          "Algeria",
          "Zambia",
          "Congo",
          "DR Congo",
          "Ethiopia",
          "Morocco",
          "Senegal",
          "Sudan",
          "Tunisia"
         ]
        },
        {
         "name": "UEFA Euro",
         "orientation": "h",
         "type": "bar",
         "x": [
          3,
          3,
          2,
          2,
          1,
          1,
          1,
          1,
          1,
          1
         ],
         "y": [
          "Germany",
          "Spain",
          "France",
          "Italy",
          "Czechoslovakia",
          "Denmark",
          "Greece",
          "Netherlands",
          "Portugal",
          "Russia"
         ]
        },
        {
         "name": "AFC Asian Cup",
         "orientation": "h",
         "type": "bar",
         "x": [
          4,
          3,
          2,
          2,
          1,
          1,
          1,
          1,
          1,
          1
         ],
         "y": [
          "Japan",
          "Saudi Arabia",
          "Iran",
          "Israel",
          "Australia",
          "Iraq",
          "Kuwait",
          "Qatar",
          "South Korea",
          "Thailand"
         ]
        }
       ],
       "layout": {
        "barmode": "stack",
        "height": 800,
        "template": {
         "data": {
          "bar": [
           {
            "error_x": {
             "color": "#2a3f5f"
            },
            "error_y": {
             "color": "#2a3f5f"
            },
            "marker": {
             "line": {
              "color": "#E5ECF6",
              "width": 0.5
             },
             "pattern": {
              "fillmode": "overlay",
              "size": 10,
              "solidity": 0.2
             }
            },
            "type": "bar"
           }
          ],
          "barpolar": [
           {
            "marker": {
             "line": {
              "color": "#E5ECF6",
              "width": 0.5
             },
             "pattern": {
              "fillmode": "overlay",
              "size": 10,
              "solidity": 0.2
             }
            },
            "type": "barpolar"
           }
          ],
          "carpet": [
           {
            "aaxis": {
             "endlinecolor": "#2a3f5f",
             "gridcolor": "white",
             "linecolor": "white",
             "minorgridcolor": "white",
             "startlinecolor": "#2a3f5f"
            },
            "baxis": {
             "endlinecolor": "#2a3f5f",
             "gridcolor": "white",
             "linecolor": "white",
             "minorgridcolor": "white",
             "startlinecolor": "#2a3f5f"
            },
            "type": "carpet"
           }
          ],
          "choropleth": [
           {
            "colorbar": {
             "outlinewidth": 0,
             "ticks": ""
            },
            "type": "choropleth"
           }
          ],
          "contour": [
           {
            "colorbar": {
             "outlinewidth": 0,
             "ticks": ""
            },
            "colorscale": [
             [
              0,
              "#0d0887"
             ],
             [
              0.1111111111111111,
              "#46039f"
             ],
             [
              0.2222222222222222,
              "#7201a8"
             ],
             [
              0.3333333333333333,
              "#9c179e"
             ],
             [
              0.4444444444444444,
              "#bd3786"
             ],
             [
              0.5555555555555556,
              "#d8576b"
             ],
             [
              0.6666666666666666,
              "#ed7953"
             ],
             [
              0.7777777777777778,
              "#fb9f3a"
             ],
             [
              0.8888888888888888,
              "#fdca26"
             ],
             [
              1,
              "#f0f921"
             ]
            ],
            "type": "contour"
           }
          ],
          "contourcarpet": [
           {
            "colorbar": {
             "outlinewidth": 0,
             "ticks": ""
            },
            "type": "contourcarpet"
           }
          ],
          "heatmap": [
           {
            "colorbar": {
             "outlinewidth": 0,
             "ticks": ""
            },
            "colorscale": [
             [
              0,
              "#0d0887"
             ],
             [
              0.1111111111111111,
              "#46039f"
             ],
             [
              0.2222222222222222,
              "#7201a8"
             ],
             [
              0.3333333333333333,
              "#9c179e"
             ],
             [
              0.4444444444444444,
              "#bd3786"
             ],
             [
              0.5555555555555556,
              "#d8576b"
             ],
             [
              0.6666666666666666,
              "#ed7953"
             ],
             [
              0.7777777777777778,
              "#fb9f3a"
             ],
             [
              0.8888888888888888,
              "#fdca26"
             ],
             [
              1,
              "#f0f921"
             ]
            ],
            "type": "heatmap"
           }
          ],
          "heatmapgl": [
           {
            "colorbar": {
             "outlinewidth": 0,
             "ticks": ""
            },
            "colorscale": [
             [
              0,
              "#0d0887"
             ],
             [
              0.1111111111111111,
              "#46039f"
             ],
             [
              0.2222222222222222,
              "#7201a8"
             ],
             [
              0.3333333333333333,
              "#9c179e"
             ],
             [
              0.4444444444444444,
              "#bd3786"
             ],
             [
              0.5555555555555556,
              "#d8576b"
             ],
             [
              0.6666666666666666,
              "#ed7953"
             ],
             [
              0.7777777777777778,
              "#fb9f3a"
             ],
             [
              0.8888888888888888,
              "#fdca26"
             ],
             [
              1,
              "#f0f921"
             ]
            ],
            "type": "heatmapgl"
           }
          ],
          "histogram": [
           {
            "marker": {
             "pattern": {
              "fillmode": "overlay",
              "size": 10,
              "solidity": 0.2
             }
            },
            "type": "histogram"
           }
          ],
          "histogram2d": [
           {
            "colorbar": {
             "outlinewidth": 0,
             "ticks": ""
            },
            "colorscale": [
             [
              0,
              "#0d0887"
             ],
             [
              0.1111111111111111,
              "#46039f"
             ],
             [
              0.2222222222222222,
              "#7201a8"
             ],
             [
              0.3333333333333333,
              "#9c179e"
             ],
             [
              0.4444444444444444,
              "#bd3786"
             ],
             [
              0.5555555555555556,
              "#d8576b"
             ],
             [
              0.6666666666666666,
              "#ed7953"
             ],
             [
              0.7777777777777778,
              "#fb9f3a"
             ],
             [
              0.8888888888888888,
              "#fdca26"
             ],
             [
              1,
              "#f0f921"
             ]
            ],
            "type": "histogram2d"
           }
          ],
          "histogram2dcontour": [
           {
            "colorbar": {
             "outlinewidth": 0,
             "ticks": ""
            },
            "colorscale": [
             [
              0,
              "#0d0887"
             ],
             [
              0.1111111111111111,
              "#46039f"
             ],
             [
              0.2222222222222222,
              "#7201a8"
             ],
             [
              0.3333333333333333,
              "#9c179e"
             ],
             [
              0.4444444444444444,
              "#bd3786"
             ],
             [
              0.5555555555555556,
              "#d8576b"
             ],
             [
              0.6666666666666666,
              "#ed7953"
             ],
             [
              0.7777777777777778,
              "#fb9f3a"
             ],
             [
              0.8888888888888888,
              "#fdca26"
             ],
             [
              1,
              "#f0f921"
             ]
            ],
            "type": "histogram2dcontour"
           }
          ],
          "mesh3d": [
           {
            "colorbar": {
             "outlinewidth": 0,
             "ticks": ""
            },
            "type": "mesh3d"
           }
          ],
          "parcoords": [
           {
            "line": {
             "colorbar": {
              "outlinewidth": 0,
              "ticks": ""
             }
            },
            "type": "parcoords"
           }
          ],
          "pie": [
           {
            "automargin": true,
            "type": "pie"
           }
          ],
          "scatter": [
           {
            "fillpattern": {
             "fillmode": "overlay",
             "size": 10,
             "solidity": 0.2
            },
            "type": "scatter"
           }
          ],
          "scatter3d": [
           {
            "line": {
             "colorbar": {
              "outlinewidth": 0,
              "ticks": ""
             }
            },
            "marker": {
             "colorbar": {
              "outlinewidth": 0,
              "ticks": ""
             }
            },
            "type": "scatter3d"
           }
          ],
          "scattercarpet": [
           {
            "marker": {
             "colorbar": {
              "outlinewidth": 0,
              "ticks": ""
             }
            },
            "type": "scattercarpet"
           }
          ],
          "scattergeo": [
           {
            "marker": {
             "colorbar": {
              "outlinewidth": 0,
              "ticks": ""
             }
            },
            "type": "scattergeo"
           }
          ],
          "scattergl": [
           {
            "marker": {
             "colorbar": {
              "outlinewidth": 0,
              "ticks": ""
             }
            },
            "type": "scattergl"
           }
          ],
          "scattermapbox": [
           {
            "marker": {
             "colorbar": {
              "outlinewidth": 0,
              "ticks": ""
             }
            },
            "type": "scattermapbox"
           }
          ],
          "scatterpolar": [
           {
            "marker": {
             "colorbar": {
              "outlinewidth": 0,
              "ticks": ""
             }
            },
            "type": "scatterpolar"
           }
          ],
          "scatterpolargl": [
           {
            "marker": {
             "colorbar": {
              "outlinewidth": 0,
              "ticks": ""
             }
            },
            "type": "scatterpolargl"
           }
          ],
          "scatterternary": [
           {
            "marker": {
             "colorbar": {
              "outlinewidth": 0,
              "ticks": ""
             }
            },
            "type": "scatterternary"
           }
          ],
          "surface": [
           {
            "colorbar": {
             "outlinewidth": 0,
             "ticks": ""
            },
            "colorscale": [
             [
              0,
              "#0d0887"
             ],
             [
              0.1111111111111111,
              "#46039f"
             ],
             [
              0.2222222222222222,
              "#7201a8"
             ],
             [
              0.3333333333333333,
              "#9c179e"
             ],
             [
              0.4444444444444444,
              "#bd3786"
             ],
             [
              0.5555555555555556,
              "#d8576b"
             ],
             [
              0.6666666666666666,
              "#ed7953"
             ],
             [
              0.7777777777777778,
              "#fb9f3a"
             ],
             [
              0.8888888888888888,
              "#fdca26"
             ],
             [
              1,
              "#f0f921"
             ]
            ],
            "type": "surface"
           }
          ],
          "table": [
           {
            "cells": {
             "fill": {
              "color": "#EBF0F8"
             },
             "line": {
              "color": "white"
             }
            },
            "header": {
             "fill": {
              "color": "#C8D4E3"
             },
             "line": {
              "color": "white"
             }
            },
            "type": "table"
           }
          ]
         },
         "layout": {
          "annotationdefaults": {
           "arrowcolor": "#2a3f5f",
           "arrowhead": 0,
           "arrowwidth": 1
          },
          "autotypenumbers": "strict",
          "coloraxis": {
           "colorbar": {
            "outlinewidth": 0,
            "ticks": ""
           }
          },
          "colorscale": {
           "diverging": [
            [
             0,
             "#8e0152"
            ],
            [
             0.1,
             "#c51b7d"
            ],
            [
             0.2,
             "#de77ae"
            ],
            [
             0.3,
             "#f1b6da"
            ],
            [
             0.4,
             "#fde0ef"
            ],
            [
             0.5,
             "#f7f7f7"
            ],
            [
             0.6,
             "#e6f5d0"
            ],
            [
             0.7,
             "#b8e186"
            ],
            [
             0.8,
             "#7fbc41"
            ],
            [
             0.9,
             "#4d9221"
            ],
            [
             1,
             "#276419"
            ]
           ],
           "sequential": [
            [
             0,
             "#0d0887"
            ],
            [
             0.1111111111111111,
             "#46039f"
            ],
            [
             0.2222222222222222,
             "#7201a8"
            ],
            [
             0.3333333333333333,
             "#9c179e"
            ],
            [
             0.4444444444444444,
             "#bd3786"
            ],
            [
             0.5555555555555556,
             "#d8576b"
            ],
            [
             0.6666666666666666,
             "#ed7953"
            ],
            [
             0.7777777777777778,
             "#fb9f3a"
            ],
            [
             0.8888888888888888,
             "#fdca26"
            ],
            [
             1,
             "#f0f921"
            ]
           ],
           "sequentialminus": [
            [
             0,
             "#0d0887"
            ],
            [
             0.1111111111111111,
             "#46039f"
            ],
            [
             0.2222222222222222,
             "#7201a8"
            ],
            [
             0.3333333333333333,
             "#9c179e"
            ],
            [
             0.4444444444444444,
             "#bd3786"
            ],
            [
             0.5555555555555556,
             "#d8576b"
            ],
            [
             0.6666666666666666,
             "#ed7953"
            ],
            [
             0.7777777777777778,
             "#fb9f3a"
            ],
            [
             0.8888888888888888,
             "#fdca26"
            ],
            [
             1,
             "#f0f921"
            ]
           ]
          },
          "colorway": [
           "#636efa",
           "#EF553B",
           "#00cc96",
           "#ab63fa",
           "#FFA15A",
           "#19d3f3",
           "#FF6692",
           "#B6E880",
           "#FF97FF",
           "#FECB52"
          ],
          "font": {
           "color": "#2a3f5f"
          },
          "geo": {
           "bgcolor": "white",
           "lakecolor": "white",
           "landcolor": "#E5ECF6",
           "showlakes": true,
           "showland": true,
           "subunitcolor": "white"
          },
          "hoverlabel": {
           "align": "left"
          },
          "hovermode": "closest",
          "mapbox": {
           "style": "light"
          },
          "paper_bgcolor": "white",
          "plot_bgcolor": "#E5ECF6",
          "polar": {
           "angularaxis": {
            "gridcolor": "white",
            "linecolor": "white",
            "ticks": ""
           },
           "bgcolor": "#E5ECF6",
           "radialaxis": {
            "gridcolor": "white",
            "linecolor": "white",
            "ticks": ""
           }
          },
          "scene": {
           "xaxis": {
            "backgroundcolor": "#E5ECF6",
            "gridcolor": "white",
            "gridwidth": 2,
            "linecolor": "white",
            "showbackground": true,
            "ticks": "",
            "zerolinecolor": "white"
           },
           "yaxis": {
            "backgroundcolor": "#E5ECF6",
            "gridcolor": "white",
            "gridwidth": 2,
            "linecolor": "white",
            "showbackground": true,
            "ticks": "",
            "zerolinecolor": "white"
           },
           "zaxis": {
            "backgroundcolor": "#E5ECF6",
            "gridcolor": "white",
            "gridwidth": 2,
            "linecolor": "white",
            "showbackground": true,
            "ticks": "",
            "zerolinecolor": "white"
           }
          },
          "shapedefaults": {
           "line": {
            "color": "#2a3f5f"
           }
          },
          "ternary": {
           "aaxis": {
            "gridcolor": "white",
            "linecolor": "white",
            "ticks": ""
           },
           "baxis": {
            "gridcolor": "white",
            "linecolor": "white",
            "ticks": ""
           },
           "bgcolor": "#E5ECF6",
           "caxis": {
            "gridcolor": "white",
            "linecolor": "white",
            "ticks": ""
           }
          },
          "title": {
           "x": 0.05
          },
          "xaxis": {
           "automargin": true,
           "gridcolor": "white",
           "linecolor": "white",
           "ticks": "",
           "title": {
            "standoff": 15
           },
           "zerolinecolor": "white",
           "zerolinewidth": 2
          },
          "yaxis": {
           "automargin": true,
           "gridcolor": "white",
           "linecolor": "white",
           "ticks": "",
           "title": {
            "standoff": 15
           },
           "zerolinecolor": "white",
           "zerolinewidth": 2
          }
         }
        },
        "title": {
         "text": "Most decorated countries"
        }
       }
      }
     },
     "metadata": {},
     "output_type": "display_data"
    }
   ],
   "source": [
    "import plotly.graph_objs as go\n",
    "import plotly.offline as pyo\n",
    "\n",
    "# Sort dataframes by trophies won in descending order\n",
    "world_cup_champions_sorted = world_cup_champions.sort_values(by='Trophies won overall', ascending=False)\n",
    "copa_america_champions_sorted = copa_america_champions.sort_values(by='Trophies won overall', ascending=False)\n",
    "afcon_champions_sorted = afcon_champions.sort_values(by='Trophies won overall', ascending=False)\n",
    "euros_champions_sorted = euros_champions.sort_values(by='Trophies won overall', ascending=False)\n",
    "asian_cup_champions_sorted = asian_cup_champions.sort_values(by='Trophies won overall', ascending=False)\n",
    "\n",
    "# Create a single plot with horizontal bar subplots\n",
    "fig_trophies = go.Figure()\n",
    "\n",
    "# Add horizontal bar plots to the single plot\n",
    "fig_trophies.add_trace(go.Bar(y=world_cup_champions_sorted['Winner'], x=world_cup_champions_sorted['Trophies won overall'], orientation='h', name='FIFA World Cup'))\n",
    "fig_trophies.add_trace(go.Bar(y=copa_america_champions_sorted['Winner'], x=copa_america_champions_sorted['Trophies won overall'], orientation='h', name='Copa América'))\n",
    "fig_trophies.add_trace(go.Bar(y=afcon_champions_sorted['Winner'], x=afcon_champions_sorted['Trophies won overall'], orientation='h', name='African Cup of Nations'))\n",
    "fig_trophies.add_trace(go.Bar(y=euros_champions_sorted['Winner'], x=euros_champions_sorted['Trophies won overall'], orientation='h', name='UEFA Euro'))\n",
    "fig_trophies.add_trace(go.Bar(y=asian_cup_champions_sorted['Winner'], x=asian_cup_champions_sorted['Trophies won overall'], orientation='h', name='AFC Asian Cup'))\n",
    "\n",
    "# Update layout settings\n",
    "fig_trophies.update_layout(title='Most decorated countries', barmode='stack')\n",
    "\n",
    "# Set a taller height for the plot\n",
    "fig_trophies.update_layout(height=800)\n",
    "\n",
    "# Show the plot\n",
    "pyo.iplot(fig_trophies)"
   ]
  },
  {
   "cell_type": "code",
   "execution_count": 36,
   "id": "70a3b93f",
   "metadata": {},
   "outputs": [
    {
     "data": {
      "image/png": "[encoded data removed]",
      "text/plain": [
       "<Figure size 1800x1080 with 5 Axes>"
      ]
     },
     "metadata": {},
     "output_type": "display_data"
    }
   ],
   "source": [
    "fig_trophies, axs = plt.subplots(2, 3, figsize=(25, 15))\n",
    "\n",
    "# Sort DataFrames in ascending order\n",
    "world_cup_champions_sorted = world_cup_champions.sort_values(by='Trophies won overall', ascending=True)\n",
    "copa_america_champions_sorted = copa_america_champions.sort_values(by='Trophies won overall', ascending=True)\n",
    "asian_cup_champions_sorted = asian_cup_champions.sort_values(by='Trophies won overall', ascending=True)\n",
    "afcon_champions_sorted = afcon_champions.sort_values(by='Trophies won overall', ascending=True)\n",
    "euros_champions_sorted = euros_champions.sort_values(by='Trophies won overall', ascending=True)\n",
    "\n",
    "axs[0, 0].barh(world_cup_champions_sorted['Winner'], world_cup_champions_sorted['Trophies won overall'])\n",
    "axs[0, 1].barh(copa_america_champions_sorted['Winner'], copa_america_champions_sorted['Trophies won overall'])\n",
    "axs[0, 2].barh(asian_cup_champions_sorted['Winner'], asian_cup_champions_sorted['Trophies won overall'])\n",
    "axs[1, 0].barh(afcon_champions_sorted['Winner'], afcon_champions_sorted['Trophies won overall'])\n",
    "axs[1, 1].barh(euros_champions_sorted['Winner'], euros_champions_sorted['Trophies won overall'])\n",
    "axs[1,2].remove()  # This will remove the subplot in the second row and third column\n",
    "\n",
    "# Explicitly set the titles for each subplot\n",
    "axs[0, 0].set_title('FIFA World Cup', fontsize=20)\n",
    "axs[0, 1].set_title('Copa América', fontsize=20)\n",
    "axs[0, 2].set_title('AFC Asian Cup', fontsize=20)\n",
    "axs[1, 0].set_title('African Cup of Nations', fontsize=20)\n",
    "axs[1, 1].set_title('UEFA Euro', fontsize=20)\n",
    "\n",
    "for ax in axs.flatten():\n",
    "    ax.set_ylabel('Countries', fontsize=15)\n",
    "    ax.set_xlabel('Number of titles', fontsize=15)\n",
    "\n",
    "# Create a common legend to the right of the subplots\n",
    "common_legend = fig_trophies.legend(['Trophies won overall'], loc='upper right', fontsize=15)\n",
    "\n",
    "plt.suptitle('Most decorated countries', fontweight='bold', fontsize=25)\n",
    "\n",
    "fig_trophies.tight_layout(pad=4)\n",
    "\n",
    "# setting face color/bg of the plot to white\n",
    "fig_trophies.set_facecolor('white')\n",
    "\n",
    "# fig_trophies.savefig('Most decorated countries.png')"
   ]
  },
  {
   "cell_type": "markdown",
   "id": "2f161856",
   "metadata": {},
   "source": [
    "**Brazil**, **Germany** and **Italy** have dominated both the International and the Continental tournaments, whilst countries such as **Egypt**, **Cameroon**, **Ghana**, **Ivory Coast**, **Nigeria**, **Spain**, **Argentina** and **Uruguay** have enjoyed quite a lot of Continental success."
   ]
  },
  {
   "cell_type": "markdown",
   "id": "8f556350",
   "metadata": {},
   "source": [
    "Now that we have visualized the winners from the top 4 major international tournaments, let us go one step further and see how many of these champions were victors on home soil."
   ]
  },
  {
   "cell_type": "markdown",
   "id": "f887fbe2",
   "metadata": {},
   "source": [
    "- **How many of these champions were hosts when they won the respective tournaments?**"
   ]
  },
  {
   "cell_type": "code",
   "execution_count": 37,
   "id": "9dfd16c6",
   "metadata": {},
   "outputs": [],
   "source": [
    "# creating dataframes to identify the winners who also happend to be hosts and how many times they have won the tournament\n",
    "\n",
    "world_cup_host_champions = world_cup_final[world_cup_final['Winning Team'] == world_cup_final['Country']]\n",
    "copa_america_host_champions = copa_america_final[copa_america_final['Winning Team'] == copa_america_final['Country']]\n",
    "afcon_host_champions = afcon_final[afcon_final['Winning Team'] == afcon_final['Country']]\n",
    "euros_host_champions = euros_final[euros_final['Winning Team'] == euros_final['Country']]\n",
    "asian_cup_host_champions = asian_cup_final[asian_cup_final['Winning Team'] == asian_cup_final['Country']]\n",
    "\n",
    "world_cup_host_champions = pd.DataFrame(world_cup_host_champions['Winning Team'].value_counts().sort_index())\n",
    "copa_america_host_champions = pd.DataFrame(copa_america_host_champions['Winning Team'].value_counts().sort_index())\n",
    "afcon_host_champions = pd.DataFrame(afcon_host_champions['Winning Team'].value_counts().sort_index())\n",
    "euros_host_champions = pd.DataFrame(euros_host_champions['Winning Team'].value_counts().sort_index())\n",
    "asian_cup_host_champions = pd.DataFrame(asian_cup_host_champions['Winning Team'].value_counts().sort_index())\n",
    "\n",
    "# Resetting index\n",
    "world_cup_host_champions.reset_index(drop=False, inplace=True)\n",
    "copa_america_host_champions.reset_index(drop=False, inplace=True)\n",
    "afcon_host_champions.reset_index(drop=False, inplace=True)\n",
    "euros_host_champions.reset_index(drop=False, inplace=True)\n",
    "asian_cup_host_champions.reset_index(drop=False, inplace=True)\n",
    "\n",
    "# Renaming columns\n",
    "world_cup_host_champions.rename(columns={'Winning Team': 'Winner', 'count': 'Trophies won as host'}, inplace=True)\n",
    "copa_america_host_champions.rename(columns={'Winning Team': 'Winner', 'count': 'Trophies won as host'}, inplace=True)\n",
    "afcon_host_champions.rename(columns={'Winning Team': 'Winner', 'count': 'Trophies won as host'}, inplace=True)\n",
    "euros_host_champions.rename(columns={'Winning Team': 'Winner', 'count': 'Trophies won as host'}, inplace=True)\n",
    "asian_cup_host_champions.rename(columns={'Winning Team': 'Winner', 'count': 'Trophies won as host'}, inplace=True)"
   ]
  },
  {
   "cell_type": "markdown",
   "id": "f02ef938",
   "metadata": {},
   "source": [
    "To make things simpler as we go further into our analysis, we shall merge both the dataframes, i.e. the merged dataframe will now contain the number of trophies a country has won and also how many of them were won while they were hosts."
   ]
  },
  {
   "cell_type": "code",
   "execution_count": 38,
   "id": "9e48e5f6",
   "metadata": {},
   "outputs": [],
   "source": [
    "# merging the champions and the host_champions dataframes\n",
    "\n",
    "world_cup_champions_df = pd.merge(world_cup_champions, world_cup_host_champions, how = 'outer', on = ['Winner'])\n",
    "copa_america_champions_df = pd.merge(copa_america_champions, copa_america_host_champions, how = 'outer', on = ['Winner'])\n",
    "afcon_champions_df = pd.merge(afcon_champions, afcon_host_champions, how = 'outer', on = ['Winner'])\n",
    "euros_champions_df = pd.merge(euros_champions, euros_host_champions, how = 'outer', on = ['Winner'])\n",
    "asian_cup_champions_df = pd.merge(asian_cup_champions, asian_cup_host_champions, how='outer', on=['Winner'])\n",
    "\n",
    "# replacing null values with 0  for the teams that didn't win any tournaments as hosts\n",
    "world_cup_champions_df.fillna(0, inplace=True)\n",
    "copa_america_champions_df.fillna(0, inplace=True)\n",
    "afcon_champions_df.fillna(0, inplace=True)\n",
    "euros_champions_df.fillna(0, inplace=True)\n",
    "asian_cup_champions_df.fillna(0, inplace=True)\n",
    "\n",
    "# changing datatype of 'Trophies won as host' column from float to int\n",
    "world_cup_champions_df['Trophies won as host'] = world_cup_champions_df['Trophies won as host'].astype(int)\n",
    "copa_america_champions_df['Trophies won as host'] = copa_america_champions_df['Trophies won as host'].astype(int)\n",
    "afcon_champions_df['Trophies won as host'] = afcon_champions_df['Trophies won as host'].astype(int)\n",
    "euros_champions_df['Trophies won as host'] = euros_champions_df['Trophies won as host'].astype(int)\n",
    "asian_cup_champions_df['Trophies won as host'] = asian_cup_champions_df['Trophies won as host'].astype(int)"
   ]
  },
  {
   "cell_type": "code",
   "execution_count": 39,
   "id": "01873687",
   "metadata": {},
   "outputs": [
    {
     "data": {
      "application/vnd.plotly.v1+json": {
       "config": {
        "linkText": "Export to plot.ly",
        "plotlyServerURL": "https://plot.ly",
        "showLink": false
       },
       "data": [
        {
         "name": "Trophies won overall - World Cup",
         "orientation": "h",
         "type": "bar",
         "x": [
          3,
          5,
          1,
          2,
          4,
          4,
          1,
          1,
          1
         ],
         "y": [
          "Argentina",
          "Brazil",
          "England",
          "France",
          "Germany",
          "Italy",
          "Spain",
          "Sweden",
          "Uruguay"
         ]
        },
        {
         "name": "Trophies won as host - World Cup",
         "orientation": "h",
         "type": "bar",
         "x": [
          1,
          0,
          1,
          1,
          1,
          1,
          0,
          0,
          1
         ],
         "y": [
          "Argentina",
          "Brazil",
          "England",
          "France",
          "Germany",
          "Italy",
          "Spain",
          "Sweden",
          "Uruguay"
         ]
        },
        {
         "name": "Trophies won overall - Copa America",
         "orientation": "h",
         "type": "bar",
         "x": [
          9,
          10,
          4,
          1,
          2,
          2,
          4,
          10
         ],
         "y": [
          "Argentina",
          "Brazil",
          "Chile",
          "Colombia",
          "Ecuador",
          "Paraguay",
          "Peru",
          "Uruguay"
         ]
        },
        {
         "name": "Trophies won as host - Copa America",
         "orientation": "h",
         "type": "bar",
         "x": [
          5,
          4,
          2,
          1,
          1,
          1,
          2,
          6
         ],
         "y": [
          "Argentina",
          "Brazil",
          "Chile",
          "Colombia",
          "Ecuador",
          "Paraguay",
          "Peru",
          "Uruguay"
         ]
        },
        {
         "name": "Trophies won overall - AFCON",
         "orientation": "h",
         "type": "bar",
         "x": [
          2,
          5,
          1,
          1,
          7,
          1,
          4,
          3,
          1,
          3,
          1,
          1,
          1,
          2
         ],
         "y": [
          "Algeria",
          "Cameroon",
          "Congo",
          "DR Congo",
          "Egypt",
          "Ethiopia",
          "Ghana",
          "Ivory Coast",
          "Morocco",
          "Nigeria",
          "Senegal",
          "Sudan",
          "Tunisia",
          "Zambia"
         ]
        },
        {
         "name": "Trophies won as host - AFCON",
         "orientation": "h",
         "type": "bar",
         "x": [
          1,
          0,
          0,
          0,
          2,
          1,
          2,
          0,
          0,
          1,
          0,
          1,
          1,
          0
         ],
         "y": [
          "Algeria",
          "Cameroon",
          "Congo",
          "DR Congo",
          "Egypt",
          "Ethiopia",
          "Ghana",
          "Ivory Coast",
          "Morocco",
          "Nigeria",
          "Senegal",
          "Sudan",
          "Tunisia",
          "Zambia"
         ]
        },
        {
         "name": "Trophies won overall - UEFA Euro",
         "orientation": "h",
         "type": "bar",
         "x": [
          1,
          1,
          2,
          3,
          1,
          2,
          1,
          1,
          1,
          3
         ],
         "y": [
          "Czechoslovakia",
          "Denmark",
          "France",
          "Germany",
          "Greece",
          "Italy",
          "Netherlands",
          "Portugal",
          "Russia",
          "Spain"
         ]
        },
        {
         "name": "Trophies won as host - UEFA Euro",
         "orientation": "h",
         "type": "bar",
         "x": [
          0,
          0,
          1,
          0,
          0,
          1,
          0,
          0,
          0,
          1
         ],
         "y": [
          "Czechoslovakia",
          "Denmark",
          "France",
          "Germany",
          "Greece",
          "Italy",
          "Netherlands",
          "Portugal",
          "Russia",
          "Spain"
         ]
        },
        {
         "name": "Trophies won overall - AFC Asian Cup",
         "orientation": "h",
         "type": "bar",
         "x": [
          1,
          2,
          1,
          2,
          4,
          1,
          1,
          3,
          1,
          1
         ],
         "y": [
          "Australia",
          "Iran",
          "Iraq",
          "Israel",
          "Japan",
          "Kuwait",
          "Qatar",
          "Saudi Arabia",
          "South Korea",
          "Thailand"
         ]
        },
        {
         "name": "Trophies won as host - AFC Asian Cup",
         "orientation": "h",
         "type": "bar",
         "x": [
          1,
          2,
          0,
          1,
          1,
          1,
          0,
          0,
          0,
          1
         ],
         "y": [
          "Australia",
          "Iran",
          "Iraq",
          "Israel",
          "Japan",
          "Kuwait",
          "Qatar",
          "Saudi Arabia",
          "South Korea",
          "Thailand"
         ]
        }
       ],
       "layout": {
        "barmode": "group",
        "height": 1000,
        "template": {
         "data": {
          "bar": [
           {
            "error_x": {
             "color": "#2a3f5f"
            },
            "error_y": {
             "color": "#2a3f5f"
            },
            "marker": {
             "line": {
              "color": "#E5ECF6",
              "width": 0.5
             },
             "pattern": {
              "fillmode": "overlay",
              "size": 10,
              "solidity": 0.2
             }
            },
            "type": "bar"
           }
          ],
          "barpolar": [
           {
            "marker": {
             "line": {
              "color": "#E5ECF6",
              "width": 0.5
             },
             "pattern": {
              "fillmode": "overlay",
              "size": 10,
              "solidity": 0.2
             }
            },
            "type": "barpolar"
           }
          ],
          "carpet": [
           {
            "aaxis": {
             "endlinecolor": "#2a3f5f",
             "gridcolor": "white",
             "linecolor": "white",
             "minorgridcolor": "white",
             "startlinecolor": "#2a3f5f"
            },
            "baxis": {
             "endlinecolor": "#2a3f5f",
             "gridcolor": "white",
             "linecolor": "white",
             "minorgridcolor": "white",
             "startlinecolor": "#2a3f5f"
            },
            "type": "carpet"
           }
          ],
          "choropleth": [
           {
            "colorbar": {
             "outlinewidth": 0,
             "ticks": ""
            },
            "type": "choropleth"
           }
          ],
          "contour": [
           {
            "colorbar": {
             "outlinewidth": 0,
             "ticks": ""
            },
            "colorscale": [
             [
              0,
              "#0d0887"
             ],
             [
              0.1111111111111111,
              "#46039f"
             ],
             [
              0.2222222222222222,
              "#7201a8"
             ],
             [
              0.3333333333333333,
              "#9c179e"
             ],
             [
              0.4444444444444444,
              "#bd3786"
             ],
             [
              0.5555555555555556,
              "#d8576b"
             ],
             [
              0.6666666666666666,
              "#ed7953"
             ],
             [
              0.7777777777777778,
              "#fb9f3a"
             ],
             [
              0.8888888888888888,
              "#fdca26"
             ],
             [
              1,
              "#f0f921"
             ]
            ],
            "type": "contour"
           }
          ],
          "contourcarpet": [
           {
            "colorbar": {
             "outlinewidth": 0,
             "ticks": ""
            },
            "type": "contourcarpet"
           }
          ],
          "heatmap": [
           {
            "colorbar": {
             "outlinewidth": 0,
             "ticks": ""
            },
            "colorscale": [
             [
              0,
              "#0d0887"
             ],
             [
              0.1111111111111111,
              "#46039f"
             ],
             [
              0.2222222222222222,
              "#7201a8"
             ],
             [
              0.3333333333333333,
              "#9c179e"
             ],
             [
              0.4444444444444444,
              "#bd3786"
             ],
             [
              0.5555555555555556,
              "#d8576b"
             ],
             [
              0.6666666666666666,
              "#ed7953"
             ],
             [
              0.7777777777777778,
              "#fb9f3a"
             ],
             [
              0.8888888888888888,
              "#fdca26"
             ],
             [
              1,
              "#f0f921"
             ]
            ],
            "type": "heatmap"
           }
          ],
          "heatmapgl": [
           {
            "colorbar": {
             "outlinewidth": 0,
             "ticks": ""
            },
            "colorscale": [
             [
              0,
              "#0d0887"
             ],
             [
              0.1111111111111111,
              "#46039f"
             ],
             [
              0.2222222222222222,
              "#7201a8"
             ],
             [
              0.3333333333333333,
              "#9c179e"
             ],
             [
              0.4444444444444444,
              "#bd3786"
             ],
             [
              0.5555555555555556,
              "#d8576b"
             ],
             [
              0.6666666666666666,
              "#ed7953"
             ],
             [
              0.7777777777777778,
              "#fb9f3a"
             ],
             [
              0.8888888888888888,
              "#fdca26"
             ],
             [
              1,
              "#f0f921"
             ]
            ],
            "type": "heatmapgl"
           }
          ],
          "histogram": [
           {
            "marker": {
             "pattern": {
              "fillmode": "overlay",
              "size": 10,
              "solidity": 0.2
             }
            },
            "type": "histogram"
           }
          ],
          "histogram2d": [
           {
            "colorbar": {
             "outlinewidth": 0,
             "ticks": ""
            },
            "colorscale": [
             [
              0,
              "#0d0887"
             ],
             [
              0.1111111111111111,
              "#46039f"
             ],
             [
              0.2222222222222222,
              "#7201a8"
             ],
             [
              0.3333333333333333,
              "#9c179e"
             ],
             [
              0.4444444444444444,
              "#bd3786"
             ],
             [
              0.5555555555555556,
              "#d8576b"
             ],
             [
              0.6666666666666666,
              "#ed7953"
             ],
             [
              0.7777777777777778,
              "#fb9f3a"
             ],
             [
              0.8888888888888888,
              "#fdca26"
             ],
             [
              1,
              "#f0f921"
             ]
            ],
            "type": "histogram2d"
           }
          ],
          "histogram2dcontour": [
           {
            "colorbar": {
             "outlinewidth": 0,
             "ticks": ""
            },
            "colorscale": [
             [
              0,
              "#0d0887"
             ],
             [
              0.1111111111111111,
              "#46039f"
             ],
             [
              0.2222222222222222,
              "#7201a8"
             ],
             [
              0.3333333333333333,
              "#9c179e"
             ],
             [
              0.4444444444444444,
              "#bd3786"
             ],
             [
              0.5555555555555556,
              "#d8576b"
             ],
             [
              0.6666666666666666,
              "#ed7953"
             ],
             [
              0.7777777777777778,
              "#fb9f3a"
             ],
             [
              0.8888888888888888,
              "#fdca26"
             ],
             [
              1,
              "#f0f921"
             ]
            ],
            "type": "histogram2dcontour"
           }
          ],
          "mesh3d": [
           {
            "colorbar": {
             "outlinewidth": 0,
             "ticks": ""
            },
            "type": "mesh3d"
           }
          ],
          "parcoords": [
           {
            "line": {
             "colorbar": {
              "outlinewidth": 0,
              "ticks": ""
             }
            },
            "type": "parcoords"
           }
          ],
          "pie": [
           {
            "automargin": true,
            "type": "pie"
           }
          ],
          "scatter": [
           {
            "fillpattern": {
             "fillmode": "overlay",
             "size": 10,
             "solidity": 0.2
            },
            "type": "scatter"
           }
          ],
          "scatter3d": [
           {
            "line": {
             "colorbar": {
              "outlinewidth": 0,
              "ticks": ""
             }
            },
            "marker": {
             "colorbar": {
              "outlinewidth": 0,
              "ticks": ""
             }
            },
            "type": "scatter3d"
           }
          ],
          "scattercarpet": [
           {
            "marker": {
             "colorbar": {
              "outlinewidth": 0,
              "ticks": ""
             }
            },
            "type": "scattercarpet"
           }
          ],
          "scattergeo": [
           {
            "marker": {
             "colorbar": {
              "outlinewidth": 0,
              "ticks": ""
             }
            },
            "type": "scattergeo"
           }
          ],
          "scattergl": [
           {
            "marker": {
             "colorbar": {
              "outlinewidth": 0,
              "ticks": ""
             }
            },
            "type": "scattergl"
           }
          ],
          "scattermapbox": [
           {
            "marker": {
             "colorbar": {
              "outlinewidth": 0,
              "ticks": ""
             }
            },
            "type": "scattermapbox"
           }
          ],
          "scatterpolar": [
           {
            "marker": {
             "colorbar": {
              "outlinewidth": 0,
              "ticks": ""
             }
            },
            "type": "scatterpolar"
           }
          ],
          "scatterpolargl": [
           {
            "marker": {
             "colorbar": {
              "outlinewidth": 0,
              "ticks": ""
             }
            },
            "type": "scatterpolargl"
           }
          ],
          "scatterternary": [
           {
            "marker": {
             "colorbar": {
              "outlinewidth": 0,
              "ticks": ""
             }
            },
            "type": "scatterternary"
           }
          ],
          "surface": [
           {
            "colorbar": {
             "outlinewidth": 0,
             "ticks": ""
            },
            "colorscale": [
             [
              0,
              "#0d0887"
             ],
             [
              0.1111111111111111,
              "#46039f"
             ],
             [
              0.2222222222222222,
              "#7201a8"
             ],
             [
              0.3333333333333333,
              "#9c179e"
             ],
             [
              0.4444444444444444,
              "#bd3786"
             ],
             [
              0.5555555555555556,
              "#d8576b"
             ],
             [
              0.6666666666666666,
              "#ed7953"
             ],
             [
              0.7777777777777778,
              "#fb9f3a"
             ],
             [
              0.8888888888888888,
              "#fdca26"
             ],
             [
              1,
              "#f0f921"
             ]
            ],
            "type": "surface"
           }
          ],
          "table": [
           {
            "cells": {
             "fill": {
              "color": "#EBF0F8"
             },
             "line": {
              "color": "white"
             }
            },
            "header": {
             "fill": {
              "color": "#C8D4E3"
             },
             "line": {
              "color": "white"
             }
            },
            "type": "table"
           }
          ]
         },
         "layout": {
          "annotationdefaults": {
           "arrowcolor": "#2a3f5f",
           "arrowhead": 0,
           "arrowwidth": 1
          },
          "autotypenumbers": "strict",
          "coloraxis": {
           "colorbar": {
            "outlinewidth": 0,
            "ticks": ""
           }
          },
          "colorscale": {
           "diverging": [
            [
             0,
             "#8e0152"
            ],
            [
             0.1,
             "#c51b7d"
            ],
            [
             0.2,
             "#de77ae"
            ],
            [
             0.3,
             "#f1b6da"
            ],
            [
             0.4,
             "#fde0ef"
            ],
            [
             0.5,
             "#f7f7f7"
            ],
            [
             0.6,
             "#e6f5d0"
            ],
            [
             0.7,
             "#b8e186"
            ],
            [
             0.8,
             "#7fbc41"
            ],
            [
             0.9,
             "#4d9221"
            ],
            [
             1,
             "#276419"
            ]
           ],
           "sequential": [
            [
             0,
             "#0d0887"
            ],
            [
             0.1111111111111111,
             "#46039f"
            ],
            [
             0.2222222222222222,
             "#7201a8"
            ],
            [
             0.3333333333333333,
             "#9c179e"
            ],
            [
             0.4444444444444444,
             "#bd3786"
            ],
            [
             0.5555555555555556,
             "#d8576b"
            ],
            [
             0.6666666666666666,
             "#ed7953"
            ],
            [
             0.7777777777777778,
             "#fb9f3a"
            ],
            [
             0.8888888888888888,
             "#fdca26"
            ],
            [
             1,
             "#f0f921"
            ]
           ],
           "sequentialminus": [
            [
             0,
             "#0d0887"
            ],
            [
             0.1111111111111111,
             "#46039f"
            ],
            [
             0.2222222222222222,
             "#7201a8"
            ],
            [
             0.3333333333333333,
             "#9c179e"
            ],
            [
             0.4444444444444444,
             "#bd3786"
            ],
            [
             0.5555555555555556,
             "#d8576b"
            ],
            [
             0.6666666666666666,
             "#ed7953"
            ],
            [
             0.7777777777777778,
             "#fb9f3a"
            ],
            [
             0.8888888888888888,
             "#fdca26"
            ],
            [
             1,
             "#f0f921"
            ]
           ]
          },
          "colorway": [
           "#636efa",
           "#EF553B",
           "#00cc96",
           "#ab63fa",
           "#FFA15A",
           "#19d3f3",
           "#FF6692",
           "#B6E880",
           "#FF97FF",
           "#FECB52"
          ],
          "font": {
           "color": "#2a3f5f"
          },
          "geo": {
           "bgcolor": "white",
           "lakecolor": "white",
           "landcolor": "#E5ECF6",
           "showlakes": true,
           "showland": true,
           "subunitcolor": "white"
          },
          "hoverlabel": {
           "align": "left"
          },
          "hovermode": "closest",
          "mapbox": {
           "style": "light"
          },
          "paper_bgcolor": "white",
          "plot_bgcolor": "#E5ECF6",
          "polar": {
           "angularaxis": {
            "gridcolor": "white",
            "linecolor": "white",
            "ticks": ""
           },
           "bgcolor": "#E5ECF6",
           "radialaxis": {
            "gridcolor": "white",
            "linecolor": "white",
            "ticks": ""
           }
          },
          "scene": {
           "xaxis": {
            "backgroundcolor": "#E5ECF6",
            "gridcolor": "white",
            "gridwidth": 2,
            "linecolor": "white",
            "showbackground": true,
            "ticks": "",
            "zerolinecolor": "white"
           },
           "yaxis": {
            "backgroundcolor": "#E5ECF6",
            "gridcolor": "white",
            "gridwidth": 2,
            "linecolor": "white",
            "showbackground": true,
            "ticks": "",
            "zerolinecolor": "white"
           },
           "zaxis": {
            "backgroundcolor": "#E5ECF6",
            "gridcolor": "white",
            "gridwidth": 2,
            "linecolor": "white",
            "showbackground": true,
            "ticks": "",
            "zerolinecolor": "white"
           }
          },
          "shapedefaults": {
           "line": {
            "color": "#2a3f5f"
           }
          },
          "ternary": {
           "aaxis": {
            "gridcolor": "white",
            "linecolor": "white",
            "ticks": ""
           },
           "baxis": {
            "gridcolor": "white",
            "linecolor": "white",
            "ticks": ""
           },
           "bgcolor": "#E5ECF6",
           "caxis": {
            "gridcolor": "white",
            "linecolor": "white",
            "ticks": ""
           }
          },
          "title": {
           "x": 0.05
          },
          "xaxis": {
           "automargin": true,
           "gridcolor": "white",
           "linecolor": "white",
           "ticks": "",
           "title": {
            "standoff": 15
           },
           "zerolinecolor": "white",
           "zerolinewidth": 2
          },
          "yaxis": {
           "automargin": true,
           "gridcolor": "white",
           "linecolor": "white",
           "ticks": "",
           "title": {
            "standoff": 15
           },
           "zerolinecolor": "white",
           "zerolinewidth": 2
          }
         }
        },
        "title": {
         "text": "Most successful host countries"
        },
        "yaxis": {
         "title": {
          "text": "Number of Titles"
         }
        }
       }
      }
     },
     "metadata": {},
     "output_type": "display_data"
    }
   ],
   "source": [
    "import plotly.graph_objs as go\n",
    "import plotly.offline as pyo\n",
    "\n",
    "# Create a single plot with horizontal bar subplots\n",
    "fig_host_trophies = go.Figure()\n",
    "\n",
    "# Add horizontal bar plots to the single plot\n",
    "fig_host_trophies.add_trace(go.Bar(y=world_cup_champions_df['Winner'], x=world_cup_champions_df['Trophies won overall'], orientation='h', name='Trophies won overall - World Cup'))\n",
    "fig_host_trophies.add_trace(go.Bar(y=world_cup_champions_df['Winner'], x=world_cup_champions_df['Trophies won as host'], orientation='h', name='Trophies won as host - World Cup'))\n",
    "fig_host_trophies.add_trace(go.Bar(y=copa_america_champions_df['Winner'], x=copa_america_champions_df['Trophies won overall'], orientation='h', name='Trophies won overall - Copa America'))\n",
    "fig_host_trophies.add_trace(go.Bar(y=copa_america_champions_df['Winner'], x=copa_america_champions_df['Trophies won as host'], orientation='h', name='Trophies won as host - Copa America'))\n",
    "fig_host_trophies.add_trace(go.Bar(y=afcon_champions_df['Winner'], x=afcon_champions_df['Trophies won overall'], orientation='h', name='Trophies won overall - AFCON'))\n",
    "fig_host_trophies.add_trace(go.Bar(y=afcon_champions_df['Winner'], x=afcon_champions_df['Trophies won as host'], orientation='h', name='Trophies won as host - AFCON'))\n",
    "fig_host_trophies.add_trace(go.Bar(y=euros_champions_df['Winner'], x=euros_champions_df['Trophies won overall'], orientation='h', name='Trophies won overall - UEFA Euro'))\n",
    "fig_host_trophies.add_trace(go.Bar(y=euros_champions_df['Winner'], x=euros_champions_df['Trophies won as host'], orientation='h', name='Trophies won as host - UEFA Euro'))\n",
    "fig_host_trophies.add_trace(go.Bar(y=asian_cup_champions_df['Winner'], x=asian_cup_champions_df['Trophies won overall'], orientation='h', name='Trophies won overall - AFC Asian Cup'))\n",
    "fig_host_trophies.add_trace(go.Bar(y=asian_cup_champions_df['Winner'], x=asian_cup_champions_df['Trophies won as host'], orientation='h', name='Trophies won as host - AFC Asian Cup'))\n",
    "\n",
    "# Update layout settings\n",
    "fig_host_trophies.update_layout(title='Most successful host countries', barmode='group', yaxis_title='Number of Titles')\n",
    "\n",
    "# Set a taller height for the plot\n",
    "fig_host_trophies.update_layout(height=1000)\n",
    "\n",
    "# Show the plot\n",
    "pyo.iplot(fig_host_trophies)"
   ]
  },
  {
   "cell_type": "code",
   "execution_count": 40,
   "id": "0d9a7e84",
   "metadata": {},
   "outputs": [
    {
     "data": {
      "image/png": "[encoded data removed]",
      "text/plain": [
       "<Figure size 1800x1080 with 5 Axes>"
      ]
     },
     "metadata": {},
     "output_type": "display_data"
    }
   ],
   "source": [
    "fig_host_trophies, axs = plt.subplots(2, 3, figsize=(25, 15))\n",
    "\n",
    "# Sort DataFrames in ascending order\n",
    "world_cup_champions_sorted = world_cup_champions_df.sort_values(by='Trophies won overall', ascending=True)\n",
    "copa_america_champions_sorted = copa_america_champions_df.sort_values(by='Trophies won overall', ascending=True)\n",
    "asian_cup_champions_sorted = asian_cup_champions_df.sort_values(by='Trophies won overall', ascending=True)\n",
    "afcon_champions_sorted = afcon_champions_df.sort_values(by='Trophies won overall', ascending=True)\n",
    "euros_champions_sorted = euros_champions_df.sort_values(by='Trophies won overall', ascending=True)\n",
    "\n",
    "axs[0, 0].barh(world_cup_champions_sorted['Winner'], world_cup_champions_sorted['Trophies won overall'])\n",
    "axs[0, 0].barh(world_cup_champions_sorted['Winner'], world_cup_champions_sorted['Trophies won as host'])\n",
    "axs[0, 1].barh(copa_america_champions_sorted['Winner'], copa_america_champions_sorted['Trophies won overall'])\n",
    "axs[0, 1].barh(copa_america_champions_sorted['Winner'], copa_america_champions_sorted['Trophies won as host'])\n",
    "axs[0, 2].barh(asian_cup_champions_sorted['Winner'], asian_cup_champions_sorted['Trophies won overall'])\n",
    "axs[0, 2].barh(asian_cup_champions_sorted['Winner'], asian_cup_champions_sorted['Trophies won as host'])\n",
    "axs[1, 0].barh(afcon_champions_sorted['Winner'], afcon_champions_sorted['Trophies won overall'])\n",
    "axs[1, 0].barh(afcon_champions_sorted['Winner'], afcon_champions_sorted['Trophies won as host'])\n",
    "axs[1, 1].barh(euros_champions_sorted['Winner'], euros_champions_sorted['Trophies won overall'])\n",
    "axs[1, 1].barh(euros_champions_sorted['Winner'], euros_champions_sorted['Trophies won as host'])\n",
    "axs[1,2].remove()  # This will remove the subplot in the second row and third column\n",
    "\n",
    "# Explicitly set the titles for each subplot\n",
    "axs[0, 0].set_title('FIFA World Cup', fontsize=20)\n",
    "axs[0, 1].set_title('Copa América', fontsize=20)\n",
    "axs[0, 2].set_title('AFC Asian Cup', fontsize=20)\n",
    "axs[1, 0].set_title('African Cup of Nations', fontsize=20)\n",
    "axs[1, 1].set_title('UEFA Euro', fontsize=20)\n",
    "\n",
    "for ax in axs.flatten():\n",
    "    ax.set_ylabel('Countries', fontsize=15)\n",
    "    ax.set_xlabel('Number of titles', fontsize=15)\n",
    "\n",
    "# Create a common legend to the right of the subplots\n",
    "fig_host_trophies.legend(['Trophies won overall', 'Trophies won as host'], loc='upper right', fontsize=15)\n",
    "\n",
    "plt.suptitle('Most decorated countries', fontweight='bold', fontsize=25)\n",
    "\n",
    "fig_host_trophies.tight_layout(pad=4)\n",
    "\n",
    "# setting face color/bg of the plot to white\n",
    "fig_host_trophies.set_facecolor('white')\n",
    "\n",
    "# fig_host_trophies.savefig('Most successful host countries.png')"
   ]
  },
  {
   "cell_type": "markdown",
   "id": "f507780e",
   "metadata": {},
   "source": [
    "There have been a fair few victors who were hosts as well but there seem to be quite a lot that weren't necessaily hosting tournaments which they won, with _Copa América_ being an exception.\n",
    "\n",
    "Let's get a more specific visualisation as to how often do we see _Host Nations_ come out on top."
   ]
  },
  {
   "cell_type": "markdown",
   "id": "e5ea4578",
   "metadata": {},
   "source": [
    "- **What is the percentage of teams that have won the tournament whilst hosting it?**"
   ]
  },
  {
   "cell_type": "code",
   "execution_count": 41,
   "id": "3f6deaef",
   "metadata": {},
   "outputs": [],
   "source": [
    "# preparing necessary elements to draw a piechart\n",
    "\n",
    "world_cup_neutral_champions_count = world_cup_champions_df['Trophies won overall'] - world_cup_champions_df['Trophies won as host']\n",
    "copa_america_neutral_champions_count = copa_america_champions_df['Trophies won overall'] - copa_america_champions_df['Trophies won as host']\n",
    "asian_cup_neutral_champions_count = asian_cup_champions_df['Trophies won overall'] - asian_cup_champions_df['Trophies won as host']\n",
    "afcon_neutral_champions_count = afcon_champions_df['Trophies won overall'] - afcon_champions_df['Trophies won as host']\n",
    "euros_neutral_champions_count = euros_champions_df['Trophies won overall'] - euros_champions_df['Trophies won as host']\n",
    "\n",
    "world_cup_champions_arr = [sum(world_cup_neutral_champions_count), sum(world_cup_champions_df['Trophies won as host'])]\n",
    "copa_america_champions_arr = [sum(copa_america_neutral_champions_count), sum(copa_america_champions_df['Trophies won as host'])]\n",
    "asian_cup_champions_arr = [sum(asian_cup_neutral_champions_count), sum(asian_cup_champions_df['Trophies won as host'])]\n",
    "afcon_champions_arr = [sum(afcon_neutral_champions_count), sum(afcon_champions_df['Trophies won as host'])]\n",
    "euros_champions_arr = [sum(euros_neutral_champions_count), sum(euros_champions_df['Trophies won as host'])]\n",
    "\n",
    "wp = {'edgecolor': 'black', 'linewidth': 2, 'antialiased': True}\n",
    "\n",
    "tp = {'fontsize' : 15}\n",
    "\n",
    "ex = (0.1, 0.0)"
   ]
  },
  {
   "cell_type": "code",
   "execution_count": 42,
   "id": "8b24ee1a",
   "metadata": {},
   "outputs": [
    {
     "data": {
      "image/png": "[encoded data removed]",
      "text/plain": [
       "<Figure size 1800x1080 with 5 Axes>"
      ]
     },
     "metadata": {},
     "output_type": "display_data"
    }
   ],
   "source": [
    "# Plotting pie charts to show the difference in success percentage between host countries and neutral countries\n",
    "fig_hostvsneutral_trophies, axs = plt.subplots(2, 3, figsize=(25, 15))\n",
    "\n",
    "axs[0, 0].pie(world_cup_champions_arr, autopct='%1.1f%%', startangle=90, shadow=True, wedgeprops=wp, textprops=tp, explode=ex)\n",
    "axs[0, 1].pie(copa_america_champions_arr, autopct='%1.1f%%', startangle=90, shadow=True, wedgeprops=wp, textprops=tp, explode=ex)\n",
    "axs[0, 2].pie(asian_cup_champions_arr, autopct='%1.1f%%', startangle=90, shadow=True, wedgeprops=wp, textprops=tp, explode=ex)\n",
    "axs[1, 0].pie(afcon_champions_arr, autopct='%1.1f%%', startangle=90, shadow=True, wedgeprops=wp, textprops=tp, explode=ex)\n",
    "axs[1, 1].pie(euros_champions_arr, autopct='%1.1f%%', startangle=90, shadow=True, wedgeprops=wp, textprops=tp, explode=ex)\n",
    "axs[1,2].remove()  # This will remove the subplot in the second row and third column\n",
    "\n",
    "# Create a common super legend to the right of the subplots\n",
    "common_legend = fig_hostvsneutral_trophies.legend(['Neutral Champions', 'Host Champions'], loc='upper right', fontsize=15)\n",
    "\n",
    "# Set titles for subplots\n",
    "axs[0, 0].set_title('FIFA World Cup', fontsize=20)\n",
    "axs[0, 1].set_title('Copa América', fontsize=20)\n",
    "axs[0, 2].set_title('AFC Asian Cup', fontsize=20)\n",
    "axs[1, 0].set_title('African Cup of Nations', fontsize=20)\n",
    "axs[1, 1].set_title('UEFA Euro', fontsize=20)\n",
    "\n",
    "# Add super title\n",
    "plt.suptitle('Trophies - Host vs Neutral', fontweight='bold', fontsize=25)\n",
    "\n",
    "# Adjust layout\n",
    "fig_hostvsneutral_trophies.tight_layout(pad=2)\n",
    "\n",
    "# setting face color/bg of the plot to white\n",
    "fig_hostvsneutral_trophies.set_facecolor('white')\n",
    "\n",
    "# Save the figure\n",
    "# fig_hostvsneutral_trophies.savefig('Host vs Neutral success comparison.png')"
   ]
  },
  {
   "cell_type": "markdown",
   "id": "53fa3097",
   "metadata": {},
   "source": [
    "Here we can see that **FIFA World Cup**, **African Cup of Nations** and **UEFA Euro** have a decent (but not so encouraging) win percentage whilst being the Home Team whereas in **Copa América** the Home Team seems to have a higher success rate."
   ]
  },
  {
   "cell_type": "markdown",
   "id": "8e7764b0",
   "metadata": {},
   "source": [
    "## _Inferences and Conclusion_"
   ]
  },
  {
   "cell_type": "markdown",
   "id": "b931fa8a",
   "metadata": {},
   "source": [
    "We can conculde by saying that although being the Host Nation may hold an advantage, it doesn't necessarily guarantee 100% success. There is a lot of other data that can contribute to a team's result such as tactics, formation, team chemistry, etc."
   ]
  },
  {
   "cell_type": "markdown",
   "id": "fdcb8ce7",
   "metadata": {},
   "source": [
    "## _References_"
   ]
  },
  {
   "cell_type": "markdown",
   "id": "6586d3dd",
   "metadata": {},
   "source": [
    "- The [*dataset*](https://www.kaggle.com/datasets/martj42/international-football-results-from-1872-to-2017) we used for our analysis was obtained from [*Kaggle*](https://www.kaggle.com/).\n",
    "- To clean some of our data that we extracted from kaggle we cross-referenced it with the data available on Wikipedia."
   ]
  },
  {
   "cell_type": "markdown",
   "id": "30fd15fd",
   "metadata": {},
   "source": [
    "## _Future Work_"
   ]
  },
  {
   "cell_type": "markdown",
   "id": "2664c927",
   "metadata": {},
   "source": [
    "For our next project we will be analysing _formations_ as they play a major role in setting up a team's tactics. We will be analysing how formations have evolved over the years and how they impact a team's performance."
   ]
  },
  {
   "cell_type": "markdown",
   "id": "a202fc80",
   "metadata": {},
   "source": [
    "<p align=\"center\">\n",
    "    <img src=\"https://soccernovo.com/wp-content/uploads/2022/12/Soccer-Formation.png\" alt=\"Alt Text\">\n",
    "</p>"
   ]
  }
 ],
 "metadata": {
  "kernelspec": {
   "display_name": "Python 3 (ipykernel)",
   "language": "python",
   "name": "python3"
  },
  "language_info": {
   "codemirror_mode": {
    "name": "ipython",
    "version": 3
   },
   "file_extension": ".py",
   "mimetype": "text/x-python",
   "name": "python",
   "nbconvert_exporter": "python",
   "pygments_lexer": "ipython3",
   "version": "3.10.8"
  }
 },
 "nbformat": 4,
 "nbformat_minor": 5
}
